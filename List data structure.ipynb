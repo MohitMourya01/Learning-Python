{
 "cells": [
  {
   "cell_type": "markdown",
   "id": "786e1176-430e-4eed-8169-bc2b965190ce",
   "metadata": {},
   "source": [
    "# List Data type"
   ]
  },
  {
   "cell_type": "code",
   "execution_count": 1,
   "id": "e42cf93b-3597-4b87-b627-c46722fee0e6",
   "metadata": {},
   "outputs": [],
   "source": [
    "l = [1,3,4, \"sudh\",True, 5+7j, 34.56]"
   ]
  },
  {
   "cell_type": "code",
   "execution_count": 2,
   "id": "7342a8f8-7f00-4476-a395-1700f301d924",
   "metadata": {},
   "outputs": [
    {
     "data": {
      "text/plain": [
       "list"
      ]
     },
     "execution_count": 2,
     "metadata": {},
     "output_type": "execute_result"
    }
   ],
   "source": [
    "type(l)"
   ]
  },
  {
   "cell_type": "code",
   "execution_count": 3,
   "id": "83595e76-7203-4178-9060-6d4a3b9b8fb4",
   "metadata": {},
   "outputs": [
    {
     "data": {
      "text/plain": [
       "1"
      ]
     },
     "execution_count": 3,
     "metadata": {},
     "output_type": "execute_result"
    }
   ],
   "source": [
    "l[0]"
   ]
  },
  {
   "cell_type": "code",
   "execution_count": 4,
   "id": "314c2974-5a51-4492-93af-e8c100b2b33d",
   "metadata": {},
   "outputs": [
    {
     "data": {
      "text/plain": [
       "[1, 3, 4]"
      ]
     },
     "execution_count": 4,
     "metadata": {},
     "output_type": "execute_result"
    }
   ],
   "source": [
    "l[0:3]"
   ]
  },
  {
   "cell_type": "code",
   "execution_count": 5,
   "id": "66eb4ee9-d86b-46c1-b8da-42fb9c29e133",
   "metadata": {},
   "outputs": [
    {
     "data": {
      "text/plain": [
       "34.56"
      ]
     },
     "execution_count": 5,
     "metadata": {},
     "output_type": "execute_result"
    }
   ],
   "source": [
    "l[-1]"
   ]
  },
  {
   "cell_type": "code",
   "execution_count": 6,
   "id": "11eb96d5-9e25-473e-9b67-aaeda7d98b82",
   "metadata": {},
   "outputs": [
    {
     "data": {
      "text/plain": [
       "[34.56, (5+7j), True, 'sudh', 4, 3, 1]"
      ]
     },
     "execution_count": 6,
     "metadata": {},
     "output_type": "execute_result"
    }
   ],
   "source": [
    "l[:: -1]\n",
    "#reverse list"
   ]
  },
  {
   "cell_type": "code",
   "execution_count": 7,
   "id": "2743330f-fa0e-4ebd-9883-cb585d5dd2e8",
   "metadata": {},
   "outputs": [
    {
     "data": {
      "text/plain": [
       "[]"
      ]
     },
     "execution_count": 7,
     "metadata": {},
     "output_type": "execute_result"
    }
   ],
   "source": [
    "l[-1:-3]"
   ]
  },
  {
   "cell_type": "markdown",
   "id": "e8d72c51-c70e-4e1e-8932-e437040508b3",
   "metadata": {},
   "source": [
    "# extract all even index values"
   ]
  },
  {
   "cell_type": "code",
   "execution_count": 8,
   "id": "032650c1-7b9d-4021-bea5-677aa0ee9376",
   "metadata": {},
   "outputs": [
    {
     "data": {
      "text/plain": [
       "[1, 4, True, 34.56]"
      ]
     },
     "execution_count": 8,
     "metadata": {},
     "output_type": "execute_result"
    }
   ],
   "source": [
    "l[::2]"
   ]
  },
  {
   "cell_type": "code",
   "execution_count": 9,
   "id": "1442e357-3b23-4fbd-bc02-48afdbb7361e",
   "metadata": {},
   "outputs": [
    {
     "data": {
      "text/plain": [
       "['s', 'k', 'i', 'l', 'l', 's']"
      ]
     },
     "execution_count": 9,
     "metadata": {},
     "output_type": "execute_result"
    }
   ],
   "source": [
    "s = \"skills\"\n",
    "list(s)"
   ]
  },
  {
   "cell_type": "code",
   "execution_count": 10,
   "id": "9026b140-8d8e-4ca5-9c04-dbb7c0e477f7",
   "metadata": {},
   "outputs": [
    {
     "data": {
      "text/plain": [
       "['s', 'k', 'i', 'l', 'l', 's', 1, 3, 4, 'sudh', True, (5+7j), 34.56]"
      ]
     },
     "execution_count": 10,
     "metadata": {},
     "output_type": "execute_result"
    }
   ],
   "source": [
    "list(s) + l"
   ]
  },
  {
   "cell_type": "markdown",
   "id": "7b969506-7eb5-4fc2-a3db-b13fe8f985b6",
   "metadata": {},
   "source": [
    "# it spread all this value then insert "
   ]
  },
  {
   "cell_type": "code",
   "execution_count": 11,
   "id": "207e9873-5aec-466e-b922-b39d7a26e01b",
   "metadata": {},
   "outputs": [
    {
     "data": {
      "text/plain": [
       "[1, 3, 4, 'sudh', True, (5+7j), 34.56]"
      ]
     },
     "execution_count": 11,
     "metadata": {},
     "output_type": "execute_result"
    }
   ],
   "source": [
    "l"
   ]
  },
  {
   "cell_type": "code",
   "execution_count": 12,
   "id": "1d3da179-39c1-4f31-b8ca-413e590ac413",
   "metadata": {},
   "outputs": [
    {
     "data": {
      "text/plain": [
       "'su'"
      ]
     },
     "execution_count": 12,
     "metadata": {},
     "output_type": "execute_result"
    }
   ],
   "source": [
    "l[3][0:2]"
   ]
  },
  {
   "cell_type": "code",
   "execution_count": 13,
   "id": "3bcac98c-1baf-45f7-881f-1756e9fc8c54",
   "metadata": {},
   "outputs": [
    {
     "data": {
      "text/plain": [
       "[1, 3, 4, 'sudh', True, (5+7j), 34.56, 99, 77]"
      ]
     },
     "execution_count": 13,
     "metadata": {},
     "output_type": "execute_result"
    }
   ],
   "source": [
    "l1 = [99, 77]\n",
    "l+l1"
   ]
  },
  {
   "cell_type": "code",
   "execution_count": 14,
   "id": "ac7daeaa-2a43-4a11-baf1-6872e10a6596",
   "metadata": {},
   "outputs": [],
   "source": [
    "l.append(5)"
   ]
  },
  {
   "cell_type": "code",
   "execution_count": 15,
   "id": "b86e769a-146b-4d62-b155-2f08908ef1e8",
   "metadata": {},
   "outputs": [
    {
     "data": {
      "text/plain": [
       "[1, 3, 4, 'sudh', True, (5+7j), 34.56, 5]"
      ]
     },
     "execution_count": 15,
     "metadata": {},
     "output_type": "execute_result"
    }
   ],
   "source": [
    "l"
   ]
  },
  {
   "cell_type": "code",
   "execution_count": 16,
   "id": "381bf245-e573-4a19-b6c4-483d89533e1b",
   "metadata": {},
   "outputs": [],
   "source": [
    "l.append(l1)"
   ]
  },
  {
   "cell_type": "code",
   "execution_count": 17,
   "id": "9cc1503e-1ff9-408b-baca-2b6f6199d2cf",
   "metadata": {},
   "outputs": [
    {
     "data": {
      "text/plain": [
       "[1, 3, 4, 'sudh', True, (5+7j), 34.56, 5, [99, 77]]"
      ]
     },
     "execution_count": 17,
     "metadata": {},
     "output_type": "execute_result"
    }
   ],
   "source": [
    "l"
   ]
  },
  {
   "cell_type": "code",
   "execution_count": 18,
   "id": "720fd6f0-9146-476f-806c-c39c7589c1ae",
   "metadata": {},
   "outputs": [
    {
     "data": {
      "text/plain": [
       "77"
      ]
     },
     "execution_count": 18,
     "metadata": {},
     "output_type": "execute_result"
    }
   ],
   "source": [
    "l[-1][1]"
   ]
  },
  {
   "cell_type": "markdown",
   "id": "963f66ef-84d2-4555-bef7-9ff87eb78399",
   "metadata": {},
   "source": [
    "# extend() works for iterable data"
   ]
  },
  {
   "cell_type": "code",
   "execution_count": 19,
   "id": "98067c26-8777-4dfd-9d2e-ed0dbc387915",
   "metadata": {},
   "outputs": [],
   "source": [
    "l.extend(l1)"
   ]
  },
  {
   "cell_type": "code",
   "execution_count": 20,
   "id": "d835a109-9447-45ca-8a95-cfafd3c8bb5e",
   "metadata": {},
   "outputs": [
    {
     "data": {
      "text/plain": [
       "[1, 3, 4, 'sudh', True, (5+7j), 34.56, 5, [99, 77], 99, 77]"
      ]
     },
     "execution_count": 20,
     "metadata": {},
     "output_type": "execute_result"
    }
   ],
   "source": [
    "l"
   ]
  },
  {
   "cell_type": "code",
   "execution_count": 21,
   "id": "e6a79b8c-d4a4-434f-aaa1-4952696b1127",
   "metadata": {},
   "outputs": [],
   "source": [
    "l.append(77)"
   ]
  },
  {
   "cell_type": "code",
   "execution_count": 22,
   "id": "c848a244-baab-48d6-a9b0-48fad3ce0240",
   "metadata": {},
   "outputs": [
    {
     "data": {
      "text/plain": [
       "[1, 3, 4, 'sudh', True, (5+7j), 34.56, 5, [99, 77], 99, 77, 77]"
      ]
     },
     "execution_count": 22,
     "metadata": {},
     "output_type": "execute_result"
    }
   ],
   "source": [
    "l"
   ]
  },
  {
   "cell_type": "code",
   "execution_count": 23,
   "id": "e3a37bc2-183e-4e43-91cd-2b398d3f853b",
   "metadata": {},
   "outputs": [
    {
     "data": {
      "text/plain": [
       "77"
      ]
     },
     "execution_count": 23,
     "metadata": {},
     "output_type": "execute_result"
    }
   ],
   "source": [
    "l.pop()"
   ]
  },
  {
   "cell_type": "code",
   "execution_count": 24,
   "id": "eeb390cc-2977-4ed3-bc44-35d0d950b0a1",
   "metadata": {},
   "outputs": [
    {
     "data": {
      "text/plain": [
       "[1, 3, 4, 'sudh', True, (5+7j), 34.56, 5, [99, 77], 99, 77]"
      ]
     },
     "execution_count": 24,
     "metadata": {},
     "output_type": "execute_result"
    }
   ],
   "source": [
    "l"
   ]
  },
  {
   "cell_type": "markdown",
   "id": "2a682c38-6152-4861-ab11-6c8f318d4cf0",
   "metadata": {},
   "source": [
    "# insert()"
   ]
  },
  {
   "cell_type": "code",
   "execution_count": 25,
   "id": "b0683ff4-e8ee-4799-9e4b-8b64335e7e7b",
   "metadata": {},
   "outputs": [],
   "source": [
    "l1.insert(1, \"Mohit\")"
   ]
  },
  {
   "cell_type": "code",
   "execution_count": 26,
   "id": "88664f37-e166-4f0e-a9a8-8a9432dd8a44",
   "metadata": {},
   "outputs": [
    {
     "data": {
      "text/plain": [
       "[99, 'Mohit', 77]"
      ]
     },
     "execution_count": 26,
     "metadata": {},
     "output_type": "execute_result"
    }
   ],
   "source": [
    "l1"
   ]
  },
  {
   "cell_type": "markdown",
   "id": "53208f47-d28d-459d-817b-14d1bf2600bd",
   "metadata": {},
   "source": [
    "# shift+Tab for help and description"
   ]
  },
  {
   "cell_type": "code",
   "execution_count": 28,
   "id": "ab3a50ea-0cdd-423f-ab65-d7fffcd8c5de",
   "metadata": {},
   "outputs": [
    {
     "data": {
      "text/plain": [
       "'Mohit'"
      ]
     },
     "execution_count": 28,
     "metadata": {},
     "output_type": "execute_result"
    }
   ],
   "source": [
    "l1.pop(1)"
   ]
  },
  {
   "cell_type": "code",
   "execution_count": 29,
   "id": "ac597f0e-ae1a-42a9-8421-b5dd386c2940",
   "metadata": {},
   "outputs": [],
   "source": [
    "l1.insert(1, \"Mohit\")"
   ]
  },
  {
   "cell_type": "code",
   "execution_count": 30,
   "id": "5f02ed15-bea7-43eb-af2b-6ca69a50439e",
   "metadata": {},
   "outputs": [
    {
     "data": {
      "text/plain": [
       "[99, 'Mohit', 77]"
      ]
     },
     "execution_count": 30,
     "metadata": {},
     "output_type": "execute_result"
    }
   ],
   "source": [
    "l1"
   ]
  },
  {
   "cell_type": "code",
   "execution_count": 31,
   "id": "0134ebb1-ca49-444d-ab3c-2dbfbfb34007",
   "metadata": {},
   "outputs": [],
   "source": [
    "l1.remove(77)"
   ]
  },
  {
   "cell_type": "code",
   "execution_count": 32,
   "id": "3f153c05-b001-434e-885f-8083360a039e",
   "metadata": {},
   "outputs": [
    {
     "data": {
      "text/plain": [
       "[99, 'Mohit']"
      ]
     },
     "execution_count": 32,
     "metadata": {},
     "output_type": "execute_result"
    }
   ],
   "source": [
    "l1"
   ]
  },
  {
   "cell_type": "code",
   "execution_count": 33,
   "id": "c75a8da2-3bfb-4d6d-a5b1-14b5b1ff28e5",
   "metadata": {},
   "outputs": [],
   "source": [
    "name = \"Mohit\""
   ]
  },
  {
   "cell_type": "code",
   "execution_count": 34,
   "id": "2e7d3cb0-2fea-4414-94e3-6f6ac44db32a",
   "metadata": {},
   "outputs": [
    {
     "data": {
      "text/plain": [
       "'Hohit'"
      ]
     },
     "execution_count": 34,
     "metadata": {},
     "output_type": "execute_result"
    }
   ],
   "source": [
    "name.replace('M', 'H')"
   ]
  },
  {
   "cell_type": "code",
   "execution_count": 35,
   "id": "a29c6bf9-b922-4005-a343-cc3e28a8fade",
   "metadata": {},
   "outputs": [
    {
     "data": {
      "text/plain": [
       "'Mohit'"
      ]
     },
     "execution_count": 35,
     "metadata": {},
     "output_type": "execute_result"
    }
   ],
   "source": [
    "name"
   ]
  },
  {
   "cell_type": "code",
   "execution_count": null,
   "id": "ef68a01e-fad0-4a06-a693-1a02aad51d9b",
   "metadata": {},
   "outputs": [],
   "source": []
  }
 ],
 "metadata": {
  "kernelspec": {
   "display_name": "Python 3 (ipykernel)",
   "language": "python",
   "name": "python3"
  },
  "language_info": {
   "codemirror_mode": {
    "name": "ipython",
    "version": 3
   },
   "file_extension": ".py",
   "mimetype": "text/x-python",
   "name": "python",
   "nbconvert_exporter": "python",
   "pygments_lexer": "ipython3",
   "version": "3.12.7"
  }
 },
 "nbformat": 4,
 "nbformat_minor": 5
}
