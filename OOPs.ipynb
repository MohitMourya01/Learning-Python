{
 "cells": [
  {
   "cell_type": "code",
   "execution_count": 1,
   "id": "5be5639e-48bf-4c7a-80be-d5647e746972",
   "metadata": {},
   "outputs": [],
   "source": [
    "a = 1"
   ]
  },
  {
   "cell_type": "code",
   "execution_count": 2,
   "id": "24a289b6-481e-4806-b0e5-c33733838ca5",
   "metadata": {},
   "outputs": [
    {
     "name": "stdout",
     "output_type": "stream",
     "text": [
      "<class 'int'>\n"
     ]
    }
   ],
   "source": [
    "print(type(a))"
   ]
  },
  {
   "cell_type": "code",
   "execution_count": 4,
   "id": "dc450f2c-acc0-4b38-ae29-8676eabf49aa",
   "metadata": {},
   "outputs": [],
   "source": [
    "# classes are scalaten or blue print for a object --> classification of real world entity like car"
   ]
  },
  {
   "cell_type": "code",
   "execution_count": 6,
   "id": "3adbb28b-64d8-4204-86f5-98e0b5196cf5",
   "metadata": {},
   "outputs": [],
   "source": [
    "class test :\n",
    "    pass"
   ]
  },
  {
   "cell_type": "code",
   "execution_count": 7,
   "id": "a1fad2f1-3e7b-4f1c-881c-41e3138a58bb",
   "metadata": {},
   "outputs": [],
   "source": [
    "a  = test()"
   ]
  },
  {
   "cell_type": "code",
   "execution_count": 8,
   "id": "16030a76-042c-42e4-bd8a-3d624ed37678",
   "metadata": {},
   "outputs": [
    {
     "data": {
      "text/plain": [
       "__main__.test"
      ]
     },
     "execution_count": 8,
     "metadata": {},
     "output_type": "execute_result"
    }
   ],
   "source": [
    "type(a)"
   ]
  },
  {
   "cell_type": "code",
   "execution_count": 16,
   "id": "593c45c3-7c7b-4f35-aa8f-300fa9ded1e6",
   "metadata": {},
   "outputs": [],
   "source": [
    "class pwskills :\n",
    "    def welcome_msg(self) :\n",
    "        print(\"welcome to pwskills\")"
   ]
  },
  {
   "cell_type": "code",
   "execution_count": 17,
   "id": "3a10b521-df89-4934-978b-44403c1a6e4c",
   "metadata": {},
   "outputs": [],
   "source": [
    "rohan = pwskills()"
   ]
  },
  {
   "cell_type": "code",
   "execution_count": 18,
   "id": "e8f7e474-4789-46b7-ba34-34223ee7014c",
   "metadata": {},
   "outputs": [
    {
     "name": "stdout",
     "output_type": "stream",
     "text": [
      "<class '__main__.pwskills'>\n"
     ]
    }
   ],
   "source": [
    "print(type(rohan))"
   ]
  },
  {
   "cell_type": "code",
   "execution_count": 19,
   "id": "3f23538d-1b57-4fc5-8843-b912cd7844a9",
   "metadata": {},
   "outputs": [
    {
     "name": "stdout",
     "output_type": "stream",
     "text": [
      "welcome to pwskills\n"
     ]
    }
   ],
   "source": [
    "rohan.welcome_msg()"
   ]
  },
  {
   "cell_type": "code",
   "execution_count": 20,
   "id": "2aef7f9a-3d6d-40e8-991c-99949a60795b",
   "metadata": {},
   "outputs": [],
   "source": [
    "gaurav = pwskills()"
   ]
  },
  {
   "cell_type": "code",
   "execution_count": 21,
   "id": "c845e477-0706-40f7-a7c4-912ec6444b2d",
   "metadata": {},
   "outputs": [
    {
     "name": "stdout",
     "output_type": "stream",
     "text": [
      "welcome to pwskills\n"
     ]
    }
   ],
   "source": [
    "gaurav.welcome_msg()"
   ]
  },
  {
   "cell_type": "code",
   "execution_count": 39,
   "id": "e2827cc1-ba99-4a7c-a1f8-d821747b8e39",
   "metadata": {},
   "outputs": [],
   "source": [
    "class pwskills1 :\n",
    "    def __init__(self,phone_no, email_id, student_id) :\n",
    "        self.phone_no1 = phone_no\n",
    "        self.email_id1 = email_id\n",
    "        self.student_id1 = student_id\n",
    "    def return_student_details(self) :\n",
    "        return self.student_id1, self.phone_no1, self.email_id1"
   ]
  },
  {
   "cell_type": "code",
   "execution_count": 40,
   "id": "97109aca-0d67-4f72-8800-1b42f8df30db",
   "metadata": {},
   "outputs": [],
   "source": [
    "mohan = pwskills1(12455, \"abc@gmail.com\", 123)"
   ]
  },
  {
   "cell_type": "code",
   "execution_count": 41,
   "id": "4566d2de-7947-4932-aa3f-916a74f3299d",
   "metadata": {},
   "outputs": [
    {
     "data": {
      "text/plain": [
       "(123, 12455, 'abc@gmail.com')"
      ]
     },
     "execution_count": 41,
     "metadata": {},
     "output_type": "execute_result"
    }
   ],
   "source": [
    "mohan.return_student_details()"
   ]
  },
  {
   "cell_type": "code",
   "execution_count": 43,
   "id": "b4a8cffa-413a-498b-8384-03a95bbaa438",
   "metadata": {},
   "outputs": [
    {
     "data": {
      "text/plain": [
       "12455"
      ]
     },
     "execution_count": 43,
     "metadata": {},
     "output_type": "execute_result"
    }
   ],
   "source": [
    "mohan.phone_no1"
   ]
  },
  {
   "cell_type": "code",
   "execution_count": 44,
   "id": "0f24c707-97a8-4e8c-b3e7-a29a8f78e525",
   "metadata": {},
   "outputs": [
    {
     "data": {
      "text/plain": [
       "'abc@gmail.com'"
      ]
     },
     "execution_count": 44,
     "metadata": {},
     "output_type": "execute_result"
    }
   ],
   "source": [
    "mohan.email_id1"
   ]
  },
  {
   "cell_type": "code",
   "execution_count": null,
   "id": "6968464f-e824-4410-8036-5b5b33403341",
   "metadata": {},
   "outputs": [],
   "source": []
  }
 ],
 "metadata": {
  "kernelspec": {
   "display_name": "Python 3 (ipykernel)",
   "language": "python",
   "name": "python3"
  },
  "language_info": {
   "codemirror_mode": {
    "name": "ipython",
    "version": 3
   },
   "file_extension": ".py",
   "mimetype": "text/x-python",
   "name": "python",
   "nbconvert_exporter": "python",
   "pygments_lexer": "ipython3",
   "version": "3.12.7"
  }
 },
 "nbformat": 4,
 "nbformat_minor": 5
}
