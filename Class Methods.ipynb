{
 "cells": [
  {
   "cell_type": "code",
   "execution_count": 16,
   "id": "f5470327-9e8c-4420-b2ad-bd662557e261",
   "metadata": {},
   "outputs": [],
   "source": [
    "class pwskills :\n",
    "    def __init__(self, name, email) :\n",
    "        self.name = name\n",
    "        self.email = email\n",
    "    def student_details(self) :\n",
    "        print(self.name , self.email)\n",
    "    "
   ]
  },
  {
   "cell_type": "code",
   "execution_count": 17,
   "id": "e5820f84-499a-43ee-bdf0-4b3c198c7474",
   "metadata": {},
   "outputs": [],
   "source": [
    "pw  = pwskills(\"mohit\", \"mohit@com\")"
   ]
  },
  {
   "cell_type": "code",
   "execution_count": 18,
   "id": "11eb3604-f5d0-4700-8827-80bcac0694d6",
   "metadata": {},
   "outputs": [
    {
     "data": {
      "text/plain": [
       "'mohit'"
      ]
     },
     "execution_count": 18,
     "metadata": {},
     "output_type": "execute_result"
    }
   ],
   "source": [
    "pw.name"
   ]
  },
  {
   "cell_type": "code",
   "execution_count": 19,
   "id": "88ef8ddf-af17-4515-b390-c8848bf8a97b",
   "metadata": {},
   "outputs": [
    {
     "data": {
      "text/plain": [
       "'mohit@com'"
      ]
     },
     "execution_count": 19,
     "metadata": {},
     "output_type": "execute_result"
    }
   ],
   "source": [
    "pw.email"
   ]
  },
  {
   "cell_type": "code",
   "execution_count": 20,
   "id": "e923c9ab-f56f-4a19-a4e2-008998e2b6bd",
   "metadata": {},
   "outputs": [
    {
     "name": "stdout",
     "output_type": "stream",
     "text": [
      "mohit mohit@com\n"
     ]
    }
   ],
   "source": [
    "pw.student_details()"
   ]
  },
  {
   "cell_type": "code",
   "execution_count": 21,
   "id": "93011347-9b54-41d4-afbf-ac13d0631b04",
   "metadata": {},
   "outputs": [],
   "source": [
    "class pwskills1 :\n",
    "    def __init__(self, name, email) :\n",
    "        self.name = name\n",
    "        self.email = email\n",
    "    @classmethod\n",
    "    #bina object bnaye bhi argument pass kr skte h\n",
    "    def details(cls, name, email) :\n",
    "        return cls(name, email)\n",
    "    def student_details(self) :\n",
    "        print(self.name , self.email)"
   ]
  },
  {
   "cell_type": "code",
   "execution_count": 22,
   "id": "85613c4b-88bc-49ef-8df2-31256008ce9c",
   "metadata": {},
   "outputs": [],
   "source": [
    "# pass argument without creating an object\n",
    "pw1 = pwskills1.details(\"mohit kumar\", \"hello.com\")"
   ]
  },
  {
   "cell_type": "code",
   "execution_count": 23,
   "id": "10b14a6b-86ea-4e54-9ba1-799d4e6aea5b",
   "metadata": {},
   "outputs": [
    {
     "data": {
      "text/plain": [
       "'mohit kumar'"
      ]
     },
     "execution_count": 23,
     "metadata": {},
     "output_type": "execute_result"
    }
   ],
   "source": [
    "pw1.name"
   ]
  },
  {
   "cell_type": "code",
   "execution_count": 24,
   "id": "e8b92461-5504-433f-b223-3ea4ecaf1326",
   "metadata": {},
   "outputs": [
    {
     "data": {
      "text/plain": [
       "'hello.com'"
      ]
     },
     "execution_count": 24,
     "metadata": {},
     "output_type": "execute_result"
    }
   ],
   "source": [
    "pw1.email"
   ]
  },
  {
   "cell_type": "code",
   "execution_count": 33,
   "id": "e02b454e-b8e4-469b-b857-6e0343d0304b",
   "metadata": {},
   "outputs": [],
   "source": [
    "class pwskills2 :\n",
    "    mobile_no = 849328555\n",
    "    def __init__(self, name, email) :\n",
    "        self.name = name\n",
    "        self.email = email\n",
    "    @classmethod\n",
    "    def change_mobile_no(cls, mobile) :\n",
    "        pwskills2.mobile_no =  mobile\n",
    "    @classmethod\n",
    "    #bina object bnaye bhi argument pass kr skte h\n",
    "    def details(cls, name, email) :\n",
    "        return cls(name, email)\n",
    "    def student_details(self) :\n",
    "        print(self.name , self.email)"
   ]
  },
  {
   "cell_type": "code",
   "execution_count": 34,
   "id": "3c87065b-8978-4eb0-b25a-290bd78549db",
   "metadata": {},
   "outputs": [
    {
     "data": {
      "text/plain": [
       "849328555"
      ]
     },
     "execution_count": 34,
     "metadata": {},
     "output_type": "execute_result"
    }
   ],
   "source": [
    "pwskills2.mobile_no"
   ]
  },
  {
   "cell_type": "code",
   "execution_count": 35,
   "id": "ac183aa1-2b03-44d8-859a-f6e46ba411cd",
   "metadata": {},
   "outputs": [],
   "source": [
    "pwskills2.change_mobile_no(777372399)"
   ]
  },
  {
   "cell_type": "code",
   "execution_count": 36,
   "id": "d7d68c98-fe76-45eb-bf9d-f3738241c93f",
   "metadata": {},
   "outputs": [
    {
     "data": {
      "text/plain": [
       "777372399"
      ]
     },
     "execution_count": 36,
     "metadata": {},
     "output_type": "execute_result"
    }
   ],
   "source": [
    "pwskills2.mobile_no"
   ]
  },
  {
   "cell_type": "code",
   "execution_count": 37,
   "id": "776a6e97-14d1-4b41-b9f5-542fa183f2d6",
   "metadata": {},
   "outputs": [],
   "source": [
    "class pwskills3 :\n",
    "    mobile_no = 849328555\n",
    "    def __init__(self, name, email) :\n",
    "        self.name = name\n",
    "        self.email = email\n",
    "    @classmethod\n",
    "    def change_mobile_no(cls, mobile) :\n",
    "        pwskills2.mobile_no =  mobile\n",
    "    @classmethod\n",
    "    #bina object bnaye bhi argument pass kr skte h\n",
    "    def details(cls, name, email) :\n",
    "        return cls(name, email)\n",
    "    def student_details(self) :\n",
    "        print(self.name , self.email)"
   ]
  },
  {
   "cell_type": "code",
   "execution_count": 38,
   "id": "80cfc818-7d9b-4d5c-becd-5e59a9e6cd13",
   "metadata": {},
   "outputs": [],
   "source": [
    "def course_details(cls, course_name) :\n",
    "    print(\"course name is \", course_name)"
   ]
  },
  {
   "cell_type": "code",
   "execution_count": 39,
   "id": "3e72d7a1-354a-4f85-b9d9-a3623350cc1f",
   "metadata": {},
   "outputs": [],
   "source": [
    "pwskills3.course_details = classmethod(course_details)"
   ]
  },
  {
   "cell_type": "code",
   "execution_count": 40,
   "id": "6cb00da3-983b-4ff6-968c-b829d94d2adc",
   "metadata": {},
   "outputs": [
    {
     "name": "stdout",
     "output_type": "stream",
     "text": [
      "course name is  data structures\n"
     ]
    }
   ],
   "source": [
    "pwskills3.course_details(\"data structures\")"
   ]
  },
  {
   "cell_type": "code",
   "execution_count": 42,
   "id": "b7643928-7163-48a6-bdcb-fa06d3cc9a94",
   "metadata": {},
   "outputs": [],
   "source": [
    "delattr(pwskills3, \"details\")"
   ]
  },
  {
   "cell_type": "code",
   "execution_count": null,
   "id": "2a2c43f7-9fa8-48d8-95db-3bdb806ee892",
   "metadata": {},
   "outputs": [],
   "source": []
  }
 ],
 "metadata": {
  "kernelspec": {
   "display_name": "Python 3 (ipykernel)",
   "language": "python",
   "name": "python3"
  },
  "language_info": {
   "codemirror_mode": {
    "name": "ipython",
    "version": 3
   },
   "file_extension": ".py",
   "mimetype": "text/x-python",
   "name": "python",
   "nbconvert_exporter": "python",
   "pygments_lexer": "ipython3",
   "version": "3.12.7"
  }
 },
 "nbformat": 4,
 "nbformat_minor": 5
}
