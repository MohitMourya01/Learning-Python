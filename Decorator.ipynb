{
 "cells": [
  {
   "cell_type": "markdown",
   "id": "a3fbd109-fb0b-4ef1-8dca-6bb97f33877d",
   "metadata": {},
   "source": [
    "# Decorator"
   ]
  },
  {
   "cell_type": "code",
   "execution_count": 5,
   "id": "aee516c1-0e3c-4fc4-9802-e14c4cce20cc",
   "metadata": {},
   "outputs": [],
   "source": [
    "def test() :\n",
    "    print(\"Start:\")\n",
    "    print(\"this is my fun to test\")\n",
    "    print(\"End.\")"
   ]
  },
  {
   "cell_type": "code",
   "execution_count": 6,
   "id": "db34a942-6add-4890-9fed-477d32a06ccb",
   "metadata": {},
   "outputs": [
    {
     "name": "stdout",
     "output_type": "stream",
     "text": [
      "Start:\n",
      "this is my fun to test\n",
      "End.\n"
     ]
    }
   ],
   "source": [
    "test()"
   ]
  },
  {
   "cell_type": "code",
   "execution_count": 11,
   "id": "76454cd9-0ff7-46c6-aaa0-f061ef3cce52",
   "metadata": {},
   "outputs": [],
   "source": [
    "def deco(func) :\n",
    "    def inner_dec() :\n",
    "        print(\"Start:\")\n",
    "        func()\n",
    "        print(\"End.\")\n",
    "    return inner_dec\n",
    "        "
   ]
  },
  {
   "cell_type": "code",
   "execution_count": 12,
   "id": "ba3fd042-4b34-4a33-847c-cfff756d045b",
   "metadata": {},
   "outputs": [],
   "source": [
    "@deco \n",
    "def test1() :\n",
    "    print(6+7)"
   ]
  },
  {
   "cell_type": "code",
   "execution_count": 13,
   "id": "f39309d3-4191-4d76-98e2-0887d24ce5d3",
   "metadata": {},
   "outputs": [
    {
     "name": "stdout",
     "output_type": "stream",
     "text": [
      "Start:\n",
      "13\n",
      "End.\n"
     ]
    }
   ],
   "source": [
    "test1()"
   ]
  },
  {
   "cell_type": "code",
   "execution_count": 14,
   "id": "32e41e3e-c207-4005-8a3f-0dfc9f361418",
   "metadata": {},
   "outputs": [],
   "source": [
    "import time\n",
    "def timer_test (func) :\n",
    "    def timer_test_inner() :\n",
    "        start = time.time()\n",
    "        func()\n",
    "        end = time.time()\n",
    "        print(end - start)\n",
    "    return timer_test_inner"
   ]
  },
  {
   "cell_type": "code",
   "execution_count": 20,
   "id": "5591899c-90cb-4694-b6c4-4514ea349022",
   "metadata": {},
   "outputs": [],
   "source": [
    "@timer_test\n",
    "def test2() :\n",
    "    print(34+88)"
   ]
  },
  {
   "cell_type": "code",
   "execution_count": 21,
   "id": "4f5fe27f-bd26-4c07-a6e2-4e1285e600cb",
   "metadata": {},
   "outputs": [
    {
     "name": "stdout",
     "output_type": "stream",
     "text": [
      "122\n",
      "0.0\n"
     ]
    }
   ],
   "source": [
    "test2()"
   ]
  },
  {
   "cell_type": "code",
   "execution_count": null,
   "id": "2b102a0d-73c9-4a2e-a03e-7cbb8db3374e",
   "metadata": {},
   "outputs": [],
   "source": []
  }
 ],
 "metadata": {
  "kernelspec": {
   "display_name": "Python 3 (ipykernel)",
   "language": "python",
   "name": "python3"
  },
  "language_info": {
   "codemirror_mode": {
    "name": "ipython",
    "version": 3
   },
   "file_extension": ".py",
   "mimetype": "text/x-python",
   "name": "python",
   "nbconvert_exporter": "python",
   "pygments_lexer": "ipython3",
   "version": "3.12.7"
  }
 },
 "nbformat": 4,
 "nbformat_minor": 5
}
