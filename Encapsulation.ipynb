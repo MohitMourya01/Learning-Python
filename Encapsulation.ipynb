{
 "cells": [
  {
   "cell_type": "markdown",
   "id": "d3bf0f5f-997f-4c5c-b72e-7f6d00a49550",
   "metadata": {},
   "source": [
    "# Encapsulation"
   ]
  },
  {
   "cell_type": "code",
   "execution_count": 1,
   "id": "392e8b91-b404-49eb-95ef-df35c2b6173b",
   "metadata": {},
   "outputs": [],
   "source": [
    "class test :\n",
    "    def __init__(self,a,b) :\n",
    "        self.a = a\n",
    "        self.b = b"
   ]
  },
  {
   "cell_type": "code",
   "execution_count": 2,
   "id": "0ba1fb5a-ce39-448f-b48e-25c44db8fd15",
   "metadata": {},
   "outputs": [],
   "source": [
    "t = test(23, 34)"
   ]
  },
  {
   "cell_type": "code",
   "execution_count": 3,
   "id": "123dbe0f-0057-401f-ad89-e45a39eb774c",
   "metadata": {},
   "outputs": [
    {
     "data": {
      "text/plain": [
       "23"
      ]
     },
     "execution_count": 3,
     "metadata": {},
     "output_type": "execute_result"
    }
   ],
   "source": [
    "t.a"
   ]
  },
  {
   "cell_type": "code",
   "execution_count": 4,
   "id": "bc99c91d-bf93-4a9c-a4c0-1ed51a655f12",
   "metadata": {},
   "outputs": [],
   "source": [
    "class car :\n",
    "    def __init__(self, year, make, model, speed) :\n",
    "        self.__year = year\n",
    "        self.__make = make\n",
    "        self.__model = model\n",
    "        self.__speed = speed"
   ]
  },
  {
   "cell_type": "code",
   "execution_count": 13,
   "id": "8c87439b-3b76-4df7-8ec5-273a9edf57c1",
   "metadata": {},
   "outputs": [],
   "source": [
    "class car1 :\n",
    "    def __init__(self, year, make, model, speed) :\n",
    "        self.__year = year\n",
    "        self.__make = make\n",
    "        self.__model = model\n",
    "        self.__speed = 0\n",
    "    def set_speed(self, speed) :\n",
    "        self.__speed = 0 if speed<0 else speed\n",
    "    def get_speed(self) :\n",
    "        return self.__speed"
   ]
  },
  {
   "cell_type": "code",
   "execution_count": 5,
   "id": "db379d4a-1eb9-4c35-8fd0-5c05b0993dcd",
   "metadata": {},
   "outputs": [],
   "source": [
    "c = car(2021, \"Toyota\", \"innova\", 12)"
   ]
  },
  {
   "cell_type": "code",
   "execution_count": 6,
   "id": "0b4a4681-338b-43e8-8db1-e034b1edbc08",
   "metadata": {},
   "outputs": [
    {
     "data": {
      "text/plain": [
       "2021"
      ]
     },
     "execution_count": 6,
     "metadata": {},
     "output_type": "execute_result"
    }
   ],
   "source": [
    "c._car__year"
   ]
  },
  {
   "cell_type": "code",
   "execution_count": 10,
   "id": "e3376c27-2dab-4555-8580-783f61f036e1",
   "metadata": {},
   "outputs": [],
   "source": [
    "p = car1(2021, \"Toyota\", \"Innova\", 12)"
   ]
  },
  {
   "cell_type": "code",
   "execution_count": 15,
   "id": "00903af6-05be-40e1-b09b-c5359eb67701",
   "metadata": {},
   "outputs": [
    {
     "data": {
      "text/plain": [
       "12"
      ]
     },
     "execution_count": 15,
     "metadata": {},
     "output_type": "execute_result"
    }
   ],
   "source": [
    "p.get_speed()"
   ]
  },
  {
   "cell_type": "code",
   "execution_count": 26,
   "id": "0b50df97-e1c0-4b1c-aa0d-ee324f822fca",
   "metadata": {},
   "outputs": [],
   "source": [
    "class bank_account :\n",
    "    def __init__(self, balance) :\n",
    "        #private using '__'\n",
    "        self.__balance = balance\n",
    "    #public things\n",
    "    def deposit(self, amount) :\n",
    "        self.__balance = self.__balance + amount\n",
    "    def withdraw(self, amount) :\n",
    "        if self.__balance >= amount :\n",
    "            self.__balance = self.__balance - amount\n",
    "            return True\n",
    "        else :\n",
    "            return False\n",
    "    def get_balance(self) :\n",
    "        return self.__balance\n",
    "            "
   ]
  },
  {
   "cell_type": "code",
   "execution_count": 27,
   "id": "fe3f01b3-7472-4a9c-9948-c4761dbc2f27",
   "metadata": {},
   "outputs": [],
   "source": [
    "mohit = bank_account(1000)"
   ]
  },
  {
   "cell_type": "code",
   "execution_count": 28,
   "id": "8bedf452-2c78-4107-822a-ea6caa6043de",
   "metadata": {},
   "outputs": [
    {
     "data": {
      "text/plain": [
       "1000"
      ]
     },
     "execution_count": 28,
     "metadata": {},
     "output_type": "execute_result"
    }
   ],
   "source": [
    "mohit.get_balance()"
   ]
  },
  {
   "cell_type": "code",
   "execution_count": 29,
   "id": "0961ab0f-1a8d-4ebf-881f-dfba371531ed",
   "metadata": {},
   "outputs": [],
   "source": [
    "mohit.deposit(5000)"
   ]
  },
  {
   "cell_type": "code",
   "execution_count": 30,
   "id": "a2842c8d-a3ec-4326-a258-c07f19026753",
   "metadata": {},
   "outputs": [
    {
     "data": {
      "text/plain": [
       "6000"
      ]
     },
     "execution_count": 30,
     "metadata": {},
     "output_type": "execute_result"
    }
   ],
   "source": [
    "mohit.get_balance()"
   ]
  },
  {
   "cell_type": "code",
   "execution_count": 31,
   "id": "5bae3c2c-d1b9-41dc-92ce-207a0de5882a",
   "metadata": {},
   "outputs": [
    {
     "data": {
      "text/plain": [
       "True"
      ]
     },
     "execution_count": 31,
     "metadata": {},
     "output_type": "execute_result"
    }
   ],
   "source": [
    "mohit.withdraw(3000)"
   ]
  },
  {
   "cell_type": "code",
   "execution_count": 32,
   "id": "26baceb5-7192-4efb-9c47-e8777fb98c46",
   "metadata": {},
   "outputs": [
    {
     "data": {
      "text/plain": [
       "3000"
      ]
     },
     "execution_count": 32,
     "metadata": {},
     "output_type": "execute_result"
    }
   ],
   "source": [
    "mohit.get_balance()"
   ]
  },
  {
   "cell_type": "code",
   "execution_count": 33,
   "id": "2be38c91-a964-400e-b78d-e84e81addcca",
   "metadata": {},
   "outputs": [
    {
     "name": "stdout",
     "output_type": "stream",
     "text": [
      "3000\n"
     ]
    }
   ],
   "source": [
    "print(mohit.get_balance())"
   ]
  },
  {
   "cell_type": "code",
   "execution_count": null,
   "id": "cce38883-f281-46f8-a94c-fe3c308d2dc2",
   "metadata": {},
   "outputs": [],
   "source": []
  }
 ],
 "metadata": {
  "kernelspec": {
   "display_name": "Python 3 (ipykernel)",
   "language": "python",
   "name": "python3"
  },
  "language_info": {
   "codemirror_mode": {
    "name": "ipython",
    "version": 3
   },
   "file_extension": ".py",
   "mimetype": "text/x-python",
   "name": "python",
   "nbconvert_exporter": "python",
   "pygments_lexer": "ipython3",
   "version": "3.12.7"
  }
 },
 "nbformat": 4,
 "nbformat_minor": 5
}
