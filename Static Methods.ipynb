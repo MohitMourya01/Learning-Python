{
 "cells": [
  {
   "cell_type": "code",
   "execution_count": 6,
   "id": "55c3b0c0-ecd5-4a9a-8bb2-f797ee841ab2",
   "metadata": {},
   "outputs": [],
   "source": [
    "class pwskills :\n",
    "    def student_details(self, name, email, number) :\n",
    "        print(name, email, number)"
   ]
  },
  {
   "cell_type": "code",
   "execution_count": 7,
   "id": "1e92ce3c-c96a-45da-b44a-85f550523580",
   "metadata": {},
   "outputs": [],
   "source": [
    "pw = pwskills()"
   ]
  },
  {
   "cell_type": "code",
   "execution_count": 8,
   "id": "21337837-1fce-4e8b-a32e-04328a4bf542",
   "metadata": {},
   "outputs": [
    {
     "name": "stdout",
     "output_type": "stream",
     "text": [
      "moiht abc@com 245893022\n"
     ]
    }
   ],
   "source": [
    "pw.student_details(\"moiht\", \"abc@com\", 245893022)"
   ]
  },
  {
   "cell_type": "code",
   "execution_count": 9,
   "id": "fbecba91-c4df-49d5-a2a4-d9208736d31a",
   "metadata": {},
   "outputs": [],
   "source": [
    "class pwskills1 :\n",
    "    def student_details(self, name, email, number) :\n",
    "        print(name, email, number)\n",
    "    @staticmethod\n",
    "    def mentor_class(list_mentor) :\n",
    "        print(list_mentor)"
   ]
  },
  {
   "cell_type": "code",
   "execution_count": 10,
   "id": "3e952b5c-788b-4ba5-8bdb-db04ae3bf9a6",
   "metadata": {},
   "outputs": [
    {
     "name": "stdout",
     "output_type": "stream",
     "text": [
      "['mohit', 'kumar']\n"
     ]
    }
   ],
   "source": [
    "pwskills1.mentor_class([\"mohit\", \"kumar\"])"
   ]
  },
  {
   "cell_type": "code",
   "execution_count": 11,
   "id": "021c45f2-7b74-47c7-8040-f89c5651fe5f",
   "metadata": {},
   "outputs": [],
   "source": [
    "# static method used for doing replicated works like database connectivity .....and mentor function"
   ]
  },
  {
   "cell_type": "code",
   "execution_count": 12,
   "id": "58e47aec-0b8d-4fb8-81e8-79ee83530f95",
   "metadata": {},
   "outputs": [],
   "source": [
    "stu1 = pwskills1()"
   ]
  },
  {
   "cell_type": "code",
   "execution_count": 13,
   "id": "31ad4483-a882-4894-97fa-47181ddda7d2",
   "metadata": {},
   "outputs": [],
   "source": [
    "stu2 = pwskills1()\n"
   ]
  },
  {
   "cell_type": "code",
   "execution_count": null,
   "id": "56eafd84-d0e8-4eb1-9dbd-1680bf3ab511",
   "metadata": {},
   "outputs": [],
   "source": [
    "class pwskills1 :\n",
    "    def student_details(self, name, email, number) :\n",
    "        print(name, email, number)\n",
    "    @staticmethod\n",
    "    def mentor_class(list_mentor) :\n",
    "        print(list_mentor)"
   ]
  }
 ],
 "metadata": {
  "kernelspec": {
   "display_name": "Python 3 (ipykernel)",
   "language": "python",
   "name": "python3"
  },
  "language_info": {
   "codemirror_mode": {
    "name": "ipython",
    "version": 3
   },
   "file_extension": ".py",
   "mimetype": "text/x-python",
   "name": "python",
   "nbconvert_exporter": "python",
   "pygments_lexer": "ipython3",
   "version": "3.12.7"
  }
 },
 "nbformat": 4,
 "nbformat_minor": 5
}
