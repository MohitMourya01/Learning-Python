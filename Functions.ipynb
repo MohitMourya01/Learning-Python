{
 "cells": [
  {
   "cell_type": "markdown",
   "id": "c7bf22c0-2efc-4461-aedf-1414112239bb",
   "metadata": {},
   "source": [
    "# Functions in Python"
   ]
  },
  {
   "cell_type": "code",
   "execution_count": 2,
   "id": "5ba3face-a770-48b9-83e7-d6961ee98b3c",
   "metadata": {},
   "outputs": [],
   "source": [
    "# define a function without definition\n",
    "def test():\n",
    "    pass"
   ]
  },
  {
   "cell_type": "code",
   "execution_count": 3,
   "id": "24b735ab-bb70-467f-8044-c5e3c6b321ba",
   "metadata": {},
   "outputs": [],
   "source": [
    "def test1():\n",
    "    print(\"this is my first function\")"
   ]
  },
  {
   "cell_type": "code",
   "execution_count": 4,
   "id": "0fbe359c-1393-415e-bd52-c081650b1d15",
   "metadata": {},
   "outputs": [
    {
     "name": "stdout",
     "output_type": "stream",
     "text": [
      "this is my first function\n"
     ]
    }
   ],
   "source": [
    "test1()"
   ]
  },
  {
   "cell_type": "code",
   "execution_count": 5,
   "id": "04cc9d15-510b-4356-9ee3-2a0f19b07e5f",
   "metadata": {},
   "outputs": [],
   "source": [
    "def test2():\n",
    "    return \"this is a simple function\""
   ]
  },
  {
   "cell_type": "code",
   "execution_count": 6,
   "id": "6646fe31-c7bf-4733-824c-4ad1adc4c95e",
   "metadata": {},
   "outputs": [
    {
     "data": {
      "text/plain": [
       "'this is a simple function'"
      ]
     },
     "execution_count": 6,
     "metadata": {},
     "output_type": "execute_result"
    }
   ],
   "source": [
    "test2()"
   ]
  },
  {
   "cell_type": "code",
   "execution_count": 7,
   "id": "b99a9b03-9af5-4289-bfe6-458a24450014",
   "metadata": {},
   "outputs": [],
   "source": [
    "def test3():\n",
    "    return \"mohit\", 23, 43,56, [3,4,5,6]"
   ]
  },
  {
   "cell_type": "code",
   "execution_count": 8,
   "id": "e109ad2a-74aa-4e44-8e2c-8f9e7ca53997",
   "metadata": {},
   "outputs": [
    {
     "data": {
      "text/plain": [
       "('mohit', 23, 43, 56, [3, 4, 5, 6])"
      ]
     },
     "execution_count": 8,
     "metadata": {},
     "output_type": "execute_result"
    }
   ],
   "source": [
    "test3()"
   ]
  },
  {
   "cell_type": "code",
   "execution_count": 10,
   "id": "673da066-6301-4ab6-b8f2-d9f3bee501d9",
   "metadata": {},
   "outputs": [],
   "source": [
    "a,b,c,d,e = test3()"
   ]
  },
  {
   "cell_type": "code",
   "execution_count": 11,
   "id": "2d6b0b05-4d84-4d14-aae0-a73f65b3052a",
   "metadata": {},
   "outputs": [
    {
     "data": {
      "text/plain": [
       "'mohit'"
      ]
     },
     "execution_count": 11,
     "metadata": {},
     "output_type": "execute_result"
    }
   ],
   "source": [
    "a"
   ]
  },
  {
   "cell_type": "code",
   "execution_count": 12,
   "id": "99402085-d7ae-41f0-a1a4-41665d2cee14",
   "metadata": {},
   "outputs": [],
   "source": [
    "def test4():\n",
    "    a = 5+6\n",
    "    return a"
   ]
  },
  {
   "cell_type": "code",
   "execution_count": 13,
   "id": "d7eae922-a2c1-45c1-b59a-309d71cc8b9c",
   "metadata": {},
   "outputs": [
    {
     "data": {
      "text/plain": [
       "11"
      ]
     },
     "execution_count": 13,
     "metadata": {},
     "output_type": "execute_result"
    }
   ],
   "source": [
    "test4()"
   ]
  },
  {
   "cell_type": "code",
   "execution_count": 14,
   "id": "3fc46c0e-b2f6-4b61-baac-b13d6e0a0985",
   "metadata": {},
   "outputs": [],
   "source": [
    "def test5(a,b):\n",
    "    return a+b"
   ]
  },
  {
   "cell_type": "code",
   "execution_count": 15,
   "id": "41103a80-e944-4509-80fb-813ec0117a62",
   "metadata": {},
   "outputs": [
    {
     "data": {
      "text/plain": [
       "11.66"
      ]
     },
     "execution_count": 15,
     "metadata": {},
     "output_type": "execute_result"
    }
   ],
   "source": [
    "test5(5,6.66)"
   ]
  },
  {
   "cell_type": "code",
   "execution_count": 16,
   "id": "67e86be7-9dbc-46d9-a4ad-cc943928478e",
   "metadata": {},
   "outputs": [
    {
     "data": {
      "text/plain": [
       "[1, 2, 3, 5, 6, 7]"
      ]
     },
     "execution_count": 16,
     "metadata": {},
     "output_type": "execute_result"
    }
   ],
   "source": [
    "test5([1,2,3],[5,6,7])"
   ]
  },
  {
   "cell_type": "code",
   "execution_count": 17,
   "id": "979a682b-25bd-4db9-a977-5a3afb42658d",
   "metadata": {},
   "outputs": [],
   "source": [
    "l = [1,2,3,4,\"mohit\", \"Kumar\",[1,2,3,4,5,6]]"
   ]
  },
  {
   "cell_type": "code",
   "execution_count": 20,
   "id": "8acfa078-597e-4e96-9500-9d9611198d3b",
   "metadata": {},
   "outputs": [],
   "source": [
    "\n",
    "def test6(l):\n",
    "    l1 = []\n",
    "    for i in l:\n",
    "        if type(i) == int or type(i) == float:\n",
    "              l1.append(i)\n",
    "    return l1\n"
   ]
  },
  {
   "cell_type": "code",
   "execution_count": 24,
   "id": "5e2daecb-092d-4324-898c-3816a4306cb6",
   "metadata": {},
   "outputs": [],
   "source": [
    "\n",
    "def test7(l):\n",
    "    \"\"\" this is my doc string to show what this function do\"\"\"\n",
    "    l1 = []\n",
    "    for i in l:\n",
    "        if type(i) == int or type(i) == float:\n",
    "            l1.append(i)\n",
    "        elif type(i) == list:\n",
    "            for j in i:\n",
    "                l1.append(j)\n",
    "    return l1\n"
   ]
  },
  {
   "cell_type": "code",
   "execution_count": 21,
   "id": "18090121-1d88-41ad-bbc9-db3ec112389e",
   "metadata": {},
   "outputs": [
    {
     "data": {
      "text/plain": [
       "[1, 2, 3, 4]"
      ]
     },
     "execution_count": 21,
     "metadata": {},
     "output_type": "execute_result"
    }
   ],
   "source": [
    "test6(l)"
   ]
  },
  {
   "cell_type": "code",
   "execution_count": 23,
   "id": "c21bc652-4dbe-4d57-845a-4a7152732dc6",
   "metadata": {},
   "outputs": [
    {
     "data": {
      "text/plain": [
       "[1, 2, 3, 4, 1, 2, 3, 4, 5, 6]"
      ]
     },
     "execution_count": 23,
     "metadata": {},
     "output_type": "execute_result"
    }
   ],
   "source": [
    "test7(l)"
   ]
  },
  {
   "cell_type": "markdown",
   "id": "ac02f030-1cdd-4cd2-b80b-6fbe9324551e",
   "metadata": {},
   "source": [
    "# dynamic parameter taking"
   ]
  },
  {
   "cell_type": "code",
   "execution_count": 25,
   "id": "6541837c-3f80-4408-bc9a-b0dc81218054",
   "metadata": {},
   "outputs": [],
   "source": [
    "def test8(*args):\n",
    "    return args"
   ]
  },
  {
   "cell_type": "code",
   "execution_count": 26,
   "id": "952003c1-0cdd-4017-8d91-7f7b8dad5769",
   "metadata": {},
   "outputs": [
    {
     "data": {
      "text/plain": [
       "tuple"
      ]
     },
     "execution_count": 26,
     "metadata": {},
     "output_type": "execute_result"
    }
   ],
   "source": [
    "type(test8())"
   ]
  },
  {
   "cell_type": "code",
   "execution_count": 27,
   "id": "4d4d610c-5bc1-4fd7-b3f8-e78ee62fdeab",
   "metadata": {},
   "outputs": [
    {
     "data": {
      "text/plain": [
       "(1, 2, 3, 4)"
      ]
     },
     "execution_count": 27,
     "metadata": {},
     "output_type": "execute_result"
    }
   ],
   "source": [
    "test8(1,2,3,4)"
   ]
  },
  {
   "cell_type": "code",
   "execution_count": 28,
   "id": "9e929205-dc43-4f79-86fe-f14a8ea861b2",
   "metadata": {},
   "outputs": [],
   "source": [
    "def test9(**kwargs):\n",
    "    return kwargs"
   ]
  },
  {
   "cell_type": "code",
   "execution_count": 29,
   "id": "2a955120-b1cc-4420-b995-efbaa0efd76b",
   "metadata": {},
   "outputs": [
    {
     "data": {
      "text/plain": [
       "{}"
      ]
     },
     "execution_count": 29,
     "metadata": {},
     "output_type": "execute_result"
    }
   ],
   "source": [
    "test9()"
   ]
  },
  {
   "cell_type": "code",
   "execution_count": null,
   "id": "e2d87a18-b948-457e-a9c5-67d5f000be9b",
   "metadata": {},
   "outputs": [],
   "source": []
  }
 ],
 "metadata": {
  "kernelspec": {
   "display_name": "Python 3 (ipykernel)",
   "language": "python",
   "name": "python3"
  },
  "language_info": {
   "codemirror_mode": {
    "name": "ipython",
    "version": 3
   },
   "file_extension": ".py",
   "mimetype": "text/x-python",
   "name": "python",
   "nbconvert_exporter": "python",
   "pygments_lexer": "ipython3",
   "version": "3.12.7"
  }
 },
 "nbformat": 4,
 "nbformat_minor": 5
}
