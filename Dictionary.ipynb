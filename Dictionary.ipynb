{
 "cells": [
  {
   "cell_type": "code",
   "execution_count": 1,
   "id": "25a34054-a959-44a6-978e-748465d4404f",
   "metadata": {},
   "outputs": [
    {
     "data": {
      "text/plain": [
       "dict"
      ]
     },
     "execution_count": 1,
     "metadata": {},
     "output_type": "execute_result"
    }
   ],
   "source": [
    "d = {}\n",
    "type(d)"
   ]
  },
  {
   "cell_type": "code",
   "execution_count": 2,
   "id": "769825d5-8687-404f-aa55-9a8cca62ffb4",
   "metadata": {},
   "outputs": [],
   "source": [
    "d1 = {'key': \"Mohit\"}"
   ]
  },
  {
   "cell_type": "code",
   "execution_count": 3,
   "id": "ed7fea4f-1b37-4680-84ca-4ef39cb8cc20",
   "metadata": {},
   "outputs": [
    {
     "data": {
      "text/plain": [
       "{'key': 'Mohit'}"
      ]
     },
     "execution_count": 3,
     "metadata": {},
     "output_type": "execute_result"
    }
   ],
   "source": [
    "d1"
   ]
  },
  {
   "cell_type": "code",
   "execution_count": 4,
   "id": "1fc08bcb-d691-4c30-828d-e73ad79b7053",
   "metadata": {},
   "outputs": [],
   "source": [
    "d2 = {'name': \"Mohit\", 'email': \"mohit@gmail.com\", 'phone': 63939999}"
   ]
  },
  {
   "cell_type": "code",
   "execution_count": 5,
   "id": "740e78a9-95a1-417a-a465-378e52b0486a",
   "metadata": {},
   "outputs": [
    {
     "data": {
      "text/plain": [
       "{'name': 'Mohit', 'email': 'mohit@gmail.com', 'phone': 63939999}"
      ]
     },
     "execution_count": 5,
     "metadata": {},
     "output_type": "execute_result"
    }
   ],
   "source": [
    "d2"
   ]
  },
  {
   "cell_type": "code",
   "execution_count": 6,
   "id": "1e115929-aa19-4de1-b04f-9afde4230f51",
   "metadata": {},
   "outputs": [
    {
     "data": {
      "text/plain": [
       "'Mohit'"
      ]
     },
     "execution_count": 6,
     "metadata": {},
     "output_type": "execute_result"
    }
   ],
   "source": [
    "d2['name']"
   ]
  },
  {
   "cell_type": "code",
   "execution_count": 7,
   "id": "c9616000-e5df-436d-ba4d-ece12058fd1d",
   "metadata": {},
   "outputs": [],
   "source": [
    "d3 = {\"company\":\"pwskills\", \"course\":[\"web dev\", \"data science\", \"java\"]}"
   ]
  },
  {
   "cell_type": "code",
   "execution_count": 8,
   "id": "d427baeb-ac68-4721-9e1d-fd5524090da5",
   "metadata": {},
   "outputs": [
    {
     "data": {
      "text/plain": [
       "{'company': 'pwskills', 'course': ['web dev', 'data science', 'java']}"
      ]
     },
     "execution_count": 8,
     "metadata": {},
     "output_type": "execute_result"
    }
   ],
   "source": [
    "d3"
   ]
  },
  {
   "cell_type": "code",
   "execution_count": 10,
   "id": "e404ce9d-8ca9-448e-9c1a-02e7317d5f0f",
   "metadata": {},
   "outputs": [
    {
     "data": {
      "text/plain": [
       "'web dev'"
      ]
     },
     "execution_count": 10,
     "metadata": {},
     "output_type": "execute_result"
    }
   ],
   "source": [
    "d3['course'][0]"
   ]
  },
  {
   "cell_type": "code",
   "execution_count": 11,
   "id": "1ef1e697-0532-4255-97ee-005965e3f0de",
   "metadata": {},
   "outputs": [],
   "source": [
    "d3['mentor'] = \"mansoor\""
   ]
  },
  {
   "cell_type": "code",
   "execution_count": 12,
   "id": "170004d6-58c3-488a-a801-233ecc842bde",
   "metadata": {},
   "outputs": [
    {
     "data": {
      "text/plain": [
       "{'company': 'pwskills',\n",
       " 'course': ['web dev', 'data science', 'java'],\n",
       " 'mentor': 'mansoor'}"
      ]
     },
     "execution_count": 12,
     "metadata": {},
     "output_type": "execute_result"
    }
   ],
   "source": [
    "d3"
   ]
  },
  {
   "cell_type": "code",
   "execution_count": 13,
   "id": "46475ae0-17a5-4154-b49a-2fe5c60bbdcd",
   "metadata": {},
   "outputs": [],
   "source": [
    "del d3['mentor']"
   ]
  },
  {
   "cell_type": "code",
   "execution_count": 14,
   "id": "810f831a-ce3b-4ed6-9ad7-51c9ada79511",
   "metadata": {},
   "outputs": [
    {
     "data": {
      "text/plain": [
       "{'company': 'pwskills', 'course': ['web dev', 'data science', 'java']}"
      ]
     },
     "execution_count": 14,
     "metadata": {},
     "output_type": "execute_result"
    }
   ],
   "source": [
    "d3"
   ]
  },
  {
   "cell_type": "code",
   "execution_count": 15,
   "id": "9172b326-1dd3-441e-9500-7eb4fe1570d5",
   "metadata": {},
   "outputs": [
    {
     "data": {
      "text/plain": [
       "dict_keys(['company', 'course'])"
      ]
     },
     "execution_count": 15,
     "metadata": {},
     "output_type": "execute_result"
    }
   ],
   "source": [
    "d3.keys()"
   ]
  },
  {
   "cell_type": "code",
   "execution_count": 16,
   "id": "9213576f-05f8-473a-891f-90387f78ead9",
   "metadata": {},
   "outputs": [
    {
     "data": {
      "text/plain": [
       "dict_values(['pwskills', ['web dev', 'data science', 'java']])"
      ]
     },
     "execution_count": 16,
     "metadata": {},
     "output_type": "execute_result"
    }
   ],
   "source": [
    "d3.values()"
   ]
  },
  {
   "cell_type": "code",
   "execution_count": 17,
   "id": "d03b0368-d613-4030-bbc2-97a78ed055d1",
   "metadata": {},
   "outputs": [
    {
     "data": {
      "text/plain": [
       "dict_items([('name', 'Mohit'), ('email', 'mohit@gmail.com'), ('phone', 63939999)])"
      ]
     },
     "execution_count": 17,
     "metadata": {},
     "output_type": "execute_result"
    }
   ],
   "source": [
    "d2.items()"
   ]
  },
  {
   "cell_type": "code",
   "execution_count": 18,
   "id": "fb87bb18-f782-49d0-9809-1d103aae8872",
   "metadata": {},
   "outputs": [
    {
     "data": {
      "text/plain": [
       "[('company', 'pwskills'), ('course', ['web dev', 'data science', 'java'])]"
      ]
     },
     "execution_count": 18,
     "metadata": {},
     "output_type": "execute_result"
    }
   ],
   "source": [
    "list(d3.items())"
   ]
  },
  {
   "cell_type": "code",
   "execution_count": 19,
   "id": "75582f5c-2eec-42f4-a1ac-7eac0e8bfe6a",
   "metadata": {},
   "outputs": [],
   "source": [
    "l = [\"sudh\", \"kumar\", \"pwskills\", \"course\"]"
   ]
  },
  {
   "cell_type": "code",
   "execution_count": 25,
   "id": "76c5d870-74a1-451a-93bc-33e3bcb25ed6",
   "metadata": {},
   "outputs": [
    {
     "name": "stdout",
     "output_type": "stream",
     "text": [
      "sudh\n",
      "kumar\n",
      "pwskills\n",
      "course\n"
     ]
    }
   ],
   "source": [
    "l1 = []\n",
    "for i in l :\n",
    "    print(i)\n",
    "    l1.append(i.upper())"
   ]
  },
  {
   "cell_type": "code",
   "execution_count": 26,
   "id": "60f29f9e-e5eb-49fc-b113-ed69a74ecfa6",
   "metadata": {},
   "outputs": [
    {
     "data": {
      "text/plain": [
       "['SUDH', 'KUMAR', 'PWSKILLS', 'COURSE']"
      ]
     },
     "execution_count": 26,
     "metadata": {},
     "output_type": "execute_result"
    }
   ],
   "source": [
    "l1"
   ]
  },
  {
   "cell_type": "code",
   "execution_count": null,
   "id": "d6ce6bff-5264-49ab-a1ed-9ea50b2d4d40",
   "metadata": {},
   "outputs": [],
   "source": []
  }
 ],
 "metadata": {
  "kernelspec": {
   "display_name": "Python 3 (ipykernel)",
   "language": "python",
   "name": "python3"
  },
  "language_info": {
   "codemirror_mode": {
    "name": "ipython",
    "version": 3
   },
   "file_extension": ".py",
   "mimetype": "text/x-python",
   "name": "python",
   "nbconvert_exporter": "python",
   "pygments_lexer": "ipython3",
   "version": "3.12.7"
  }
 },
 "nbformat": 4,
 "nbformat_minor": 5
}
