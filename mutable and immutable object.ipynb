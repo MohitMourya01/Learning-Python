{
 "cells": [
  {
   "cell_type": "code",
   "execution_count": 1,
   "id": "4fffea62-e7c7-4ede-92ff-7bb030230bbc",
   "metadata": {},
   "outputs": [],
   "source": [
    "l = [2,3,4,5,\"sudh\",3+8j, True, 34.56]"
   ]
  },
  {
   "cell_type": "code",
   "execution_count": 2,
   "id": "27d7d213-ce85-4542-a4d8-0882ac5bb965",
   "metadata": {},
   "outputs": [
    {
     "data": {
      "text/plain": [
       "list"
      ]
     },
     "execution_count": 2,
     "metadata": {},
     "output_type": "execute_result"
    }
   ],
   "source": [
    "type(l)"
   ]
  },
  {
   "cell_type": "code",
   "execution_count": 3,
   "id": "4a39bb97-8ad7-472a-b259-62ff04687189",
   "metadata": {},
   "outputs": [
    {
     "name": "stdout",
     "output_type": "stream",
     "text": [
      "[2, 3, 4, 5, 'sudh', (3+8j), True, 34.56]\n"
     ]
    }
   ],
   "source": [
    "print(l)"
   ]
  },
  {
   "cell_type": "code",
   "execution_count": 4,
   "id": "21f778ff-1d11-4a45-ab98-25ba846f9637",
   "metadata": {},
   "outputs": [],
   "source": [
    "l[4] = \"skills\""
   ]
  },
  {
   "cell_type": "code",
   "execution_count": 5,
   "id": "71a59090-ebf1-4ad8-8ce9-bb06f45f19b9",
   "metadata": {},
   "outputs": [
    {
     "name": "stdout",
     "output_type": "stream",
     "text": [
      "[2, 3, 4, 5, 'skills', (3+8j), True, 34.56]\n"
     ]
    }
   ],
   "source": [
    "print(l)"
   ]
  },
  {
   "cell_type": "markdown",
   "id": "f4a7f6a8-0908-4360-80b7-ce05577afdb1",
   "metadata": {},
   "source": [
    "# list is mutable"
   ]
  },
  {
   "cell_type": "code",
   "execution_count": 7,
   "id": "078648bc-1642-4ade-838e-9caf86f5971f",
   "metadata": {},
   "outputs": [],
   "source": [
    "s = \"happy\""
   ]
  },
  {
   "cell_type": "code",
   "execution_count": 8,
   "id": "f7fb8c73-621d-4b63-a92d-23c1e6c78928",
   "metadata": {},
   "outputs": [
    {
     "ename": "TypeError",
     "evalue": "'str' object does not support item assignment",
     "output_type": "error",
     "traceback": [
      "\u001b[1;31m---------------------------------------------------------------------------\u001b[0m",
      "\u001b[1;31mTypeError\u001b[0m                                 Traceback (most recent call last)",
      "Cell \u001b[1;32mIn[8], line 1\u001b[0m\n\u001b[1;32m----> 1\u001b[0m s[\u001b[38;5;241m0\u001b[39m] \u001b[38;5;241m=\u001b[39m \u001b[38;5;124m'\u001b[39m\u001b[38;5;124mp\u001b[39m\u001b[38;5;124m'\u001b[39m\n",
      "\u001b[1;31mTypeError\u001b[0m: 'str' object does not support item assignment"
     ]
    }
   ],
   "source": [
    "s[0] = 'p'"
   ]
  },
  {
   "cell_type": "code",
   "execution_count": 9,
   "id": "23936d20-69d9-4e0f-96ef-c8837bce0b3f",
   "metadata": {},
   "outputs": [
    {
     "name": "stdout",
     "output_type": "stream",
     "text": [
      "happy\n"
     ]
    }
   ],
   "source": [
    "print(s)"
   ]
  },
  {
   "cell_type": "markdown",
   "id": "b8ff45d9-7119-42b6-bd2f-a69bc4f197a7",
   "metadata": {},
   "source": [
    "# string is immutable"
   ]
  },
  {
   "cell_type": "code",
   "execution_count": 10,
   "id": "919b6434-92dc-45e6-992c-58b9baf8735d",
   "metadata": {},
   "outputs": [],
   "source": [
    "# but we can override \n",
    "s = \"puppy\""
   ]
  },
  {
   "cell_type": "code",
   "execution_count": 11,
   "id": "60d5cbe5-e83e-4fc7-8597-fbb6e3fbb595",
   "metadata": {},
   "outputs": [
    {
     "name": "stdout",
     "output_type": "stream",
     "text": [
      "puppy\n"
     ]
    }
   ],
   "source": [
    "print(s)"
   ]
  },
  {
   "cell_type": "markdown",
   "id": "5ea284f2-c8d2-47d2-a718-644cc90096aa",
   "metadata": {},
   "source": [
    "# when we are able to assign a perticular index value then only we can say it is mutable"
   ]
  },
  {
   "cell_type": "code",
   "execution_count": null,
   "id": "d8d5bf17-c312-4b8a-822a-12c15992b2bf",
   "metadata": {},
   "outputs": [],
   "source": []
  }
 ],
 "metadata": {
  "kernelspec": {
   "display_name": "Python 3 (ipykernel)",
   "language": "python",
   "name": "python3"
  },
  "language_info": {
   "codemirror_mode": {
    "name": "ipython",
    "version": 3
   },
   "file_extension": ".py",
   "mimetype": "text/x-python",
   "name": "python",
   "nbconvert_exporter": "python",
   "pygments_lexer": "ipython3",
   "version": "3.12.7"
  }
 },
 "nbformat": 4,
 "nbformat_minor": 5
}
