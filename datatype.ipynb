{
 "cells": [
  {
   "cell_type": "code",
   "execution_count": 2,
   "id": "06086453-c714-4b6c-bb6e-35bdbd67427d",
   "metadata": {},
   "outputs": [
    {
     "name": "stdout",
     "output_type": "stream",
     "text": [
      "123345\n"
     ]
    }
   ],
   "source": [
    "print(\"123\" + \"345\")"
   ]
  },
  {
   "cell_type": "code",
   "execution_count": 3,
   "id": "216aba29-61b3-41ed-9817-2e5f51087509",
   "metadata": {},
   "outputs": [
    {
     "name": "stdout",
     "output_type": "stream",
     "text": [
      "468\n"
     ]
    }
   ],
   "source": [
    "## Integer = whole number\n",
    "print(123+345)"
   ]
  },
  {
   "cell_type": "markdown",
   "id": "2dc33e49-01c2-4bfa-ac5b-8da8d4ef9d77",
   "metadata": {},
   "source": [
    "# large number"
   ]
  },
  {
   "cell_type": "code",
   "execution_count": 5,
   "id": "ddb7347f-ccb6-425b-9618-59143b7a4d25",
   "metadata": {},
   "outputs": [
    {
     "name": "stdout",
     "output_type": "stream",
     "text": [
      "123345789\n"
     ]
    }
   ],
   "source": [
    "print(123_345_789)"
   ]
  },
  {
   "cell_type": "markdown",
   "id": "aa11a712-8d69-4645-b6da-ddef7de15c5a",
   "metadata": {},
   "source": [
    "# float"
   ]
  },
  {
   "cell_type": "code",
   "execution_count": 6,
   "id": "04fecccb-b875-4669-89c1-2e50cd7d633f",
   "metadata": {},
   "outputs": [
    {
     "name": "stdout",
     "output_type": "stream",
     "text": [
      "3.14159\n"
     ]
    }
   ],
   "source": [
    "print(3.14159)"
   ]
  },
  {
   "cell_type": "markdown",
   "id": "50876286-0fd0-43c1-9a9a-1d186f8b42f1",
   "metadata": {},
   "source": [
    "# boolean"
   ]
  },
  {
   "cell_type": "code",
   "execution_count": 7,
   "id": "ee25c086-f81c-4cc2-b45d-42571fbc8704",
   "metadata": {},
   "outputs": [
    {
     "name": "stdout",
     "output_type": "stream",
     "text": [
      "True\n"
     ]
    }
   ],
   "source": [
    "print(True)"
   ]
  },
  {
   "cell_type": "code",
   "execution_count": null,
   "id": "c214b037-33ef-4f44-b630-ce6f218e1e9e",
   "metadata": {},
   "outputs": [],
   "source": []
  }
 ],
 "metadata": {
  "kernelspec": {
   "display_name": "Python 3 (ipykernel)",
   "language": "python",
   "name": "python3"
  },
  "language_info": {
   "codemirror_mode": {
    "name": "ipython",
    "version": 3
   },
   "file_extension": ".py",
   "mimetype": "text/x-python",
   "name": "python",
   "nbconvert_exporter": "python",
   "pygments_lexer": "ipython3",
   "version": "3.12.7"
  }
 },
 "nbformat": 4,
 "nbformat_minor": 5
}
