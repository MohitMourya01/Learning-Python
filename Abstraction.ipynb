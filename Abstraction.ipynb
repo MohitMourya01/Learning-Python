{
 "cells": [
  {
   "cell_type": "markdown",
   "id": "193be1c3-112e-4426-b33d-715c23bcf7c7",
   "metadata": {},
   "source": [
    "# abstraction"
   ]
  },
  {
   "cell_type": "code",
   "execution_count": 3,
   "id": "3ea0091b-c8ed-4a7f-94fd-02cfc04489ee",
   "metadata": {},
   "outputs": [],
   "source": [
    "import abc\n",
    "class pwSkills :\n",
    "    @abc.abstractmethod\n",
    "    def students_details(self) :\n",
    "        pass\n",
    "    @abc.abstractmethod\n",
    "    def student_assignment(self) :\n",
    "        pass\n",
    "    @abc.abstractmethod\n",
    "    def student_marks(self) :\n",
    "        pass"
   ]
  },
  {
   "cell_type": "code",
   "execution_count": 6,
   "id": "41460ee1-1672-4d50-84fe-187e9234d22b",
   "metadata": {},
   "outputs": [],
   "source": [
    "class student_details(pwSkills) :\n",
    "    def student_details(self) :\n",
    "        return \"Details\"\n",
    "    def student_assignment(self) :\n",
    "        return \"assignment\""
   ]
  },
  {
   "cell_type": "code",
   "execution_count": 8,
   "id": "51a07723-2126-45f3-824a-c0107accf3ae",
   "metadata": {},
   "outputs": [],
   "source": [
    "class web_dev_details(pwSkills) :\n",
    "    def student_details(self) :\n",
    "        return \"Details\"\n",
    "    def student_marks(self) :\n",
    "        return \"marks\""
   ]
  },
  {
   "cell_type": "code",
   "execution_count": 9,
   "id": "396eab49-2dc1-498f-aa9e-507489d50ffa",
   "metadata": {},
   "outputs": [],
   "source": [
    "dsm = web_dev_details()"
   ]
  },
  {
   "cell_type": "code",
   "execution_count": 10,
   "id": "2151bad3-7fd8-46b7-a418-775822277e37",
   "metadata": {},
   "outputs": [
    {
     "data": {
      "text/plain": [
       "'Details'"
      ]
     },
     "execution_count": 10,
     "metadata": {},
     "output_type": "execute_result"
    }
   ],
   "source": [
    "dsm.student_details()"
   ]
  },
  {
   "cell_type": "code",
   "execution_count": 11,
   "id": "935112c2-488c-4c10-bfc0-0f2797c8b015",
   "metadata": {},
   "outputs": [],
   "source": [
    "# we prepare some scalaton and any one select useful outof them and implement them as convinient"
   ]
  },
  {
   "cell_type": "code",
   "execution_count": null,
   "id": "19ca3a92-0147-43ee-a287-5f32c4443298",
   "metadata": {},
   "outputs": [],
   "source": []
  }
 ],
 "metadata": {
  "kernelspec": {
   "display_name": "Python 3 (ipykernel)",
   "language": "python",
   "name": "python3"
  },
  "language_info": {
   "codemirror_mode": {
    "name": "ipython",
    "version": 3
   },
   "file_extension": ".py",
   "mimetype": "text/x-python",
   "name": "python",
   "nbconvert_exporter": "python",
   "pygments_lexer": "ipython3",
   "version": "3.12.7"
  }
 },
 "nbformat": 4,
 "nbformat_minor": 5
}
