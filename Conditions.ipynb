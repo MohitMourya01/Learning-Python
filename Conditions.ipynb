{
 "cells": [
  {
   "cell_type": "markdown",
   "id": "13f1ac68-947f-4e6a-bea4-52c4c074f234",
   "metadata": {},
   "source": [
    "# conditions"
   ]
  },
  {
   "cell_type": "code",
   "execution_count": 1,
   "id": "e83dc514-511b-40a9-b04d-c0a7f64579e5",
   "metadata": {},
   "outputs": [
    {
     "name": "stdout",
     "output_type": "stream",
     "text": [
      "Yes a is greater than 5\n"
     ]
    }
   ],
   "source": [
    "a = 10\n",
    "if a > 5 :\n",
    "    print(\"Yes a is greater than 5\")"
   ]
  },
  {
   "cell_type": "code",
   "execution_count": 3,
   "id": "dc31975f-2d7e-4fb3-b396-c8d2fc944c98",
   "metadata": {},
   "outputs": [
    {
     "name": "stdout",
     "output_type": "stream",
     "text": [
      "Equal to 10\n"
     ]
    }
   ],
   "source": [
    "if a > 16 :\n",
    "    print(\"Less than 16\")\n",
    "elif a == 10 :\n",
    "    print(\"Equal to 10\")\n",
    "else :\n",
    "    print(\"Nothing\")"
   ]
  },
  {
   "cell_type": "code",
   "execution_count": 4,
   "id": "a999acef-9d4c-4aad-9c53-98c61668eff0",
   "metadata": {},
   "outputs": [
    {
     "name": "stdin",
     "output_type": "stream",
     "text": [
      " 45\n"
     ]
    },
    {
     "data": {
      "text/plain": [
       "'45'"
      ]
     },
     "execution_count": 4,
     "metadata": {},
     "output_type": "execute_result"
    }
   ],
   "source": [
    "input()"
   ]
  },
  {
   "cell_type": "code",
   "execution_count": 5,
   "id": "ec3803c5-b2ac-404d-a1ba-19b5d96bb506",
   "metadata": {},
   "outputs": [
    {
     "name": "stdin",
     "output_type": "stream",
     "text": [
      " 88\n"
     ]
    }
   ],
   "source": [
    "b = int(input())"
   ]
  },
  {
   "cell_type": "code",
   "execution_count": 6,
   "id": "dac1b383-400f-400a-bebc-6e775989ca64",
   "metadata": {},
   "outputs": [
    {
     "data": {
      "text/plain": [
       "int"
      ]
     },
     "execution_count": 6,
     "metadata": {},
     "output_type": "execute_result"
    }
   ],
   "source": [
    "type(b)"
   ]
  },
  {
   "cell_type": "code",
   "execution_count": 8,
   "id": "376e71a6-9b22-49a3-a14b-25f993a47d61",
   "metadata": {},
   "outputs": [
    {
     "name": "stdout",
     "output_type": "stream",
     "text": [
      "1\n",
      "2\n",
      "3\n",
      "this is my else\n"
     ]
    }
   ],
   "source": [
    "n = 4\n",
    "i = 1\n",
    "while i<n :\n",
    "    print(i)\n",
    "    i=i+1\n",
    "else :\n",
    "    print(\"this is my else\")"
   ]
  },
  {
   "cell_type": "code",
   "execution_count": null,
   "id": "288d7036-dd61-4328-ab18-9542856432bc",
   "metadata": {},
   "outputs": [],
   "source": []
  }
 ],
 "metadata": {
  "kernelspec": {
   "display_name": "Python 3 (ipykernel)",
   "language": "python",
   "name": "python3"
  },
  "language_info": {
   "codemirror_mode": {
    "name": "ipython",
    "version": 3
   },
   "file_extension": ".py",
   "mimetype": "text/x-python",
   "name": "python",
   "nbconvert_exporter": "python",
   "pygments_lexer": "ipython3",
   "version": "3.12.7"
  }
 },
 "nbformat": 4,
 "nbformat_minor": 5
}
