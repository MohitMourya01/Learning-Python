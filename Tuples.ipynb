{
 "cells": [
  {
   "cell_type": "code",
   "execution_count": 1,
   "id": "edae6685-dc55-4ce5-88ad-48906bff5526",
   "metadata": {},
   "outputs": [],
   "source": [
    "t = (2,3,4,\"sudh\", 45.45, [3,4,5])"
   ]
  },
  {
   "cell_type": "code",
   "execution_count": 2,
   "id": "f705811c-701e-48d0-b3e3-1e7398b13b92",
   "metadata": {},
   "outputs": [
    {
     "data": {
      "text/plain": [
       "tuple"
      ]
     },
     "execution_count": 2,
     "metadata": {},
     "output_type": "execute_result"
    }
   ],
   "source": [
    "type(t)"
   ]
  },
  {
   "cell_type": "code",
   "execution_count": 3,
   "id": "8f7e53b7-911b-492d-87ad-abcea4970fe9",
   "metadata": {},
   "outputs": [
    {
     "data": {
      "text/plain": [
       "6"
      ]
     },
     "execution_count": 3,
     "metadata": {},
     "output_type": "execute_result"
    }
   ],
   "source": [
    "len(t)"
   ]
  },
  {
   "cell_type": "code",
   "execution_count": 4,
   "id": "ad4fab56-5ac5-45e3-9b58-568b71a99116",
   "metadata": {},
   "outputs": [
    {
     "data": {
      "text/plain": [
       "2"
      ]
     },
     "execution_count": 4,
     "metadata": {},
     "output_type": "execute_result"
    }
   ],
   "source": [
    "t[0]"
   ]
  },
  {
   "cell_type": "code",
   "execution_count": 5,
   "id": "b5cfca18-8c5a-48f5-b208-52fee2807daa",
   "metadata": {},
   "outputs": [
    {
     "data": {
      "text/plain": [
       "[3, 4, 5]"
      ]
     },
     "execution_count": 5,
     "metadata": {},
     "output_type": "execute_result"
    }
   ],
   "source": [
    "t[-1]"
   ]
  },
  {
   "cell_type": "markdown",
   "id": "1e258f45-14c8-44d8-9638-633ed3558f70",
   "metadata": {},
   "source": [
    "# list and tuples are differ by mutability and immutability"
   ]
  },
  {
   "cell_type": "code",
   "execution_count": 6,
   "id": "b87b7859-c1b3-4178-8bd4-89f29338e33a",
   "metadata": {},
   "outputs": [
    {
     "ename": "TypeError",
     "evalue": "'tuple' object does not support item assignment",
     "output_type": "error",
     "traceback": [
      "\u001b[1;31m---------------------------------------------------------------------------\u001b[0m",
      "\u001b[1;31mTypeError\u001b[0m                                 Traceback (most recent call last)",
      "Cell \u001b[1;32mIn[6], line 1\u001b[0m\n\u001b[1;32m----> 1\u001b[0m t[\u001b[38;5;241m0\u001b[39m] \u001b[38;5;241m=\u001b[39m \u001b[38;5;241m1\u001b[39m\n",
      "\u001b[1;31mTypeError\u001b[0m: 'tuple' object does not support item assignment"
     ]
    }
   ],
   "source": [
    "t[0] = 1"
   ]
  },
  {
   "cell_type": "code",
   "execution_count": 7,
   "id": "b88103fb-ef2e-4942-b744-282b76e7df6e",
   "metadata": {},
   "outputs": [
    {
     "data": {
      "text/plain": [
       "(2, 3, 4, 'sudh', 45.45, [3, 4, 5])"
      ]
     },
     "execution_count": 7,
     "metadata": {},
     "output_type": "execute_result"
    }
   ],
   "source": [
    "t"
   ]
  },
  {
   "cell_type": "code",
   "execution_count": 8,
   "id": "e3c32172-0294-4197-b49a-f798c5645d9b",
   "metadata": {},
   "outputs": [
    {
     "data": {
      "text/plain": [
       "dict"
      ]
     },
     "execution_count": 8,
     "metadata": {},
     "output_type": "execute_result"
    }
   ],
   "source": [
    "s = {}\n",
    "type(s)"
   ]
  },
  {
   "cell_type": "code",
   "execution_count": 9,
   "id": "6ae67a8e-49cb-4c0c-8e8c-058eded78b1a",
   "metadata": {},
   "outputs": [
    {
     "data": {
      "text/plain": [
       "set"
      ]
     },
     "execution_count": 9,
     "metadata": {},
     "output_type": "execute_result"
    }
   ],
   "source": [
    "s={2,3,4}\n",
    "type(s)"
   ]
  },
  {
   "cell_type": "code",
   "execution_count": 10,
   "id": "0a8bccf5-36ba-4d75-a50d-0b7198faf1eb",
   "metadata": {},
   "outputs": [],
   "source": [
    "s2 = {344,5,56,67,\"abc\",66,44}"
   ]
  },
  {
   "cell_type": "code",
   "execution_count": 11,
   "id": "3c703d77-7a9c-4634-88c0-57e8b58754df",
   "metadata": {},
   "outputs": [
    {
     "data": {
      "text/plain": [
       "{344, 44, 5, 56, 66, 67, 'abc'}"
      ]
     },
     "execution_count": 11,
     "metadata": {},
     "output_type": "execute_result"
    }
   ],
   "source": [
    "s2"
   ]
  },
  {
   "cell_type": "code",
   "execution_count": 12,
   "id": "a32d503f-7c32-40b4-923a-2456939c2a06",
   "metadata": {},
   "outputs": [],
   "source": [
    "l3 = list(s2)"
   ]
  },
  {
   "cell_type": "code",
   "execution_count": 13,
   "id": "167425b8-37c1-41ef-ab2b-8ad298d27524",
   "metadata": {},
   "outputs": [
    {
     "data": {
      "text/plain": [
       "[66, 67, 'abc', 5, 344, 56, 44]"
      ]
     },
     "execution_count": 13,
     "metadata": {},
     "output_type": "execute_result"
    }
   ],
   "source": [
    "l3"
   ]
  },
  {
   "cell_type": "markdown",
   "id": "15eee18a-e193-4c61-82bc-f744f9f88f15",
   "metadata": {},
   "source": [
    "# slicing and indexing does not work for set data structures"
   ]
  },
  {
   "cell_type": "code",
   "execution_count": null,
   "id": "ba58a28b-99e5-4dad-9678-e6a3f0bbc883",
   "metadata": {},
   "outputs": [],
   "source": []
  }
 ],
 "metadata": {
  "kernelspec": {
   "display_name": "Python 3 (ipykernel)",
   "language": "python",
   "name": "python3"
  },
  "language_info": {
   "codemirror_mode": {
    "name": "ipython",
    "version": 3
   },
   "file_extension": ".py",
   "mimetype": "text/x-python",
   "name": "python",
   "nbconvert_exporter": "python",
   "pygments_lexer": "ipython3",
   "version": "3.12.7"
  }
 },
 "nbformat": 4,
 "nbformat_minor": 5
}
