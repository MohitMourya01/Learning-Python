{
 "cells": [
  {
   "cell_type": "code",
   "execution_count": 10,
   "id": "1faa9597-2f9f-4afb-8ec1-ad5b1fbfdc88",
   "metadata": {},
   "outputs": [],
   "source": [
    "f = open(\"test.txt\", 'w')"
   ]
  },
  {
   "cell_type": "code",
   "execution_count": 11,
   "id": "90e3ddd2-6e24-4bd8-bb13-9fbd5d9380af",
   "metadata": {},
   "outputs": [
    {
     "data": {
      "text/plain": [
       "'C:\\\\Users\\\\ASUS\\\\Desktop\\\\its me\\\\python works\\\\file and exception handling , memory management'"
      ]
     },
     "execution_count": 11,
     "metadata": {},
     "output_type": "execute_result"
    }
   ],
   "source": [
    "pwd"
   ]
  },
  {
   "cell_type": "code",
   "execution_count": 12,
   "id": "caaf0ff3-bc9a-4c32-b5e1-0a88cb59f59b",
   "metadata": {},
   "outputs": [
    {
     "name": "stdout",
     "output_type": "stream",
     "text": [
      " Volume in drive C is OS\n",
      " Volume Serial Number is B8FB-BD69\n",
      "\n",
      " Directory of C:\\Users\\ASUS\\Desktop\\its me\\python works\\file and exception handling , memory management\n",
      "\n",
      "11/17/2024  11:34 PM    <DIR>          .\n",
      "11/17/2024  11:22 PM    <DIR>          ..\n",
      "11/17/2024  11:28 PM    <DIR>          .ipynb_checkpoints\n",
      "11/17/2024  11:35 PM                 0 test.txt\n",
      "11/17/2024  11:34 PM             3,210 Working with files.ipynb\n",
      "               2 File(s)          3,210 bytes\n",
      "               3 Dir(s)  212,348,952,576 bytes free\n"
     ]
    }
   ],
   "source": [
    "ls"
   ]
  },
  {
   "cell_type": "code",
   "execution_count": 13,
   "id": "b40a7f44-2642-4907-8933-7962c387368e",
   "metadata": {},
   "outputs": [
    {
     "name": "stdout",
     "output_type": "stream",
     "text": [
      "[WinError 2] The system cannot find the file specified: 'python works'\n",
      "C:\\Users\\ASUS\\Desktop\\its me\\python works\\file and exception handling , memory management\n"
     ]
    }
   ],
   "source": [
    "cd python works"
   ]
  },
  {
   "cell_type": "code",
   "execution_count": 14,
   "id": "ccf7aca7-00c2-43ea-907d-998e6ee54a42",
   "metadata": {},
   "outputs": [
    {
     "data": {
      "text/plain": [
       "24"
      ]
     },
     "execution_count": 14,
     "metadata": {},
     "output_type": "execute_result"
    }
   ],
   "source": [
    "# first truncate the available data then write the data\n",
    "f.write(\"this is my file to write\")"
   ]
  },
  {
   "cell_type": "code",
   "execution_count": 15,
   "id": "abfa70f7-fb68-47de-a885-eb7509f7a05e",
   "metadata": {},
   "outputs": [],
   "source": [
    "f.close()"
   ]
  },
  {
   "cell_type": "code",
   "execution_count": 17,
   "id": "79d93f2a-cae5-41f8-aff6-5ee991959bbf",
   "metadata": {},
   "outputs": [],
   "source": [
    "f = open(\"test.txt\", 'a')"
   ]
  },
  {
   "cell_type": "code",
   "execution_count": 18,
   "id": "b47e664c-e7aa-48d4-9a5a-6be9fe00c6f2",
   "metadata": {},
   "outputs": [
    {
     "data": {
      "text/plain": [
       "40"
      ]
     },
     "execution_count": 18,
     "metadata": {},
     "output_type": "execute_result"
    }
   ],
   "source": [
    "f.write(\"Working hours need more focused learning\")"
   ]
  },
  {
   "cell_type": "code",
   "execution_count": 19,
   "id": "00f88f54-138b-455e-8c83-602f6619e3d7",
   "metadata": {},
   "outputs": [],
   "source": [
    "f.close()"
   ]
  },
  {
   "cell_type": "code",
   "execution_count": 20,
   "id": "e0850923-f5db-442c-ae97-f71ef5d5dd8c",
   "metadata": {},
   "outputs": [],
   "source": [
    "f = open(\"test.txt\", 'r')"
   ]
  },
  {
   "cell_type": "code",
   "execution_count": 21,
   "id": "0934dea3-acd4-45bc-81f5-ab04584727dd",
   "metadata": {},
   "outputs": [
    {
     "data": {
      "text/plain": [
       "'this is my file to writeWorking hours need more focused learning'"
      ]
     },
     "execution_count": 21,
     "metadata": {},
     "output_type": "execute_result"
    }
   ],
   "source": [
    "f.read()"
   ]
  },
  {
   "cell_type": "code",
   "execution_count": 27,
   "id": "3590a915-2c33-4015-b7c7-c40fc2a342e2",
   "metadata": {},
   "outputs": [
    {
     "data": {
      "text/plain": [
       "'this is my file to writeWorking hours need more focused learning'"
      ]
     },
     "execution_count": 27,
     "metadata": {},
     "output_type": "execute_result"
    }
   ],
   "source": [
    "f.readline()"
   ]
  },
  {
   "cell_type": "code",
   "execution_count": 26,
   "id": "1f3100e0-48e4-4b0e-9513-7e70f389923c",
   "metadata": {},
   "outputs": [
    {
     "data": {
      "text/plain": [
       "0"
      ]
     },
     "execution_count": 26,
     "metadata": {},
     "output_type": "execute_result"
    }
   ],
   "source": [
    "# read by 21 line code put the pointer last to move front seek(0)\n",
    "f.seek(0)"
   ]
  },
  {
   "cell_type": "code",
   "execution_count": 28,
   "id": "e6d11b9b-433f-4b2a-bd96-51c85cae88f2",
   "metadata": {},
   "outputs": [],
   "source": [
    "import os"
   ]
  },
  {
   "cell_type": "code",
   "execution_count": 29,
   "id": "b73ef492-8878-4d5e-b1bb-93155ddae4a4",
   "metadata": {},
   "outputs": [
    {
     "data": {
      "text/plain": [
       "64"
      ]
     },
     "execution_count": 29,
     "metadata": {},
     "output_type": "execute_result"
    }
   ],
   "source": [
    "os.path.getsize(\"test.txt\")"
   ]
  },
  {
   "cell_type": "code",
   "execution_count": 31,
   "id": "6a942a33-e179-4d19-a884-21115dc2fb65",
   "metadata": {},
   "outputs": [
    {
     "ename": "PermissionError",
     "evalue": "[WinError 32] The process cannot access the file because it is being used by another process: 'test.txt'",
     "output_type": "error",
     "traceback": [
      "\u001b[1;31m---------------------------------------------------------------------------\u001b[0m",
      "\u001b[1;31mPermissionError\u001b[0m                           Traceback (most recent call last)",
      "Cell \u001b[1;32mIn[31], line 1\u001b[0m\n\u001b[1;32m----> 1\u001b[0m os\u001b[38;5;241m.\u001b[39mremove(\u001b[38;5;124m\"\u001b[39m\u001b[38;5;124mtest.txt\u001b[39m\u001b[38;5;124m\"\u001b[39m)\n",
      "\u001b[1;31mPermissionError\u001b[0m: [WinError 32] The process cannot access the file because it is being used by another process: 'test.txt'"
     ]
    }
   ],
   "source": [
    "os.remove(\"test.txt\")"
   ]
  },
  {
   "cell_type": "code",
   "execution_count": null,
   "id": "cebf2db4-e194-4403-9e77-a4f2a97dbef7",
   "metadata": {},
   "outputs": [],
   "source": []
  }
 ],
 "metadata": {
  "kernelspec": {
   "display_name": "Python 3 (ipykernel)",
   "language": "python",
   "name": "python3"
  },
  "language_info": {
   "codemirror_mode": {
    "name": "ipython",
    "version": 3
   },
   "file_extension": ".py",
   "mimetype": "text/x-python",
   "name": "python",
   "nbconvert_exporter": "python",
   "pygments_lexer": "ipython3",
   "version": "3.12.7"
  }
 },
 "nbformat": 4,
 "nbformat_minor": 5
}
