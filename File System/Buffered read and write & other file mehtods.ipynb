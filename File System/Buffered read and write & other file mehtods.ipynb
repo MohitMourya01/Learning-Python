{
 "cells": [
  {
   "cell_type": "code",
   "execution_count": 1,
   "id": "017a1ea4-348e-410a-be8b-518af8df25de",
   "metadata": {},
   "outputs": [],
   "source": [
    "import io"
   ]
  },
  {
   "cell_type": "code",
   "execution_count": 9,
   "id": "9c4db39b-b66e-4e6c-98d4-096069ae770f",
   "metadata": {},
   "outputs": [],
   "source": [
    "with open(\"test1.txt\", \"wb\") as f:\n",
    "    file = io.BufferedWriter(f)\n",
    "    file.write(b\"this is my first line\\n\")\n",
    "    file.write(b\"this is my second line\")\n",
    "    file.flush()"
   ]
  },
  {
   "cell_type": "code",
   "execution_count": 11,
   "id": "ba1831d5-3a43-42aa-8259-29dc20f49ccb",
   "metadata": {},
   "outputs": [
    {
     "name": "stdout",
     "output_type": "stream",
     "text": [
      "b'this is my firs'\n"
     ]
    }
   ],
   "source": [
    "with open(\"test1.txt\", \"rb\") as f :\n",
    "    file = io.BufferedReader(f)\n",
    "    data = file.read(15)\n",
    "    print(data)"
   ]
  },
  {
   "cell_type": "code",
   "execution_count": null,
   "id": "d1445f46-85c2-4b5a-ab95-a65c3d0d6469",
   "metadata": {},
   "outputs": [],
   "source": []
  }
 ],
 "metadata": {
  "kernelspec": {
   "display_name": "Python 3 (ipykernel)",
   "language": "python",
   "name": "python3"
  },
  "language_info": {
   "codemirror_mode": {
    "name": "ipython",
    "version": 3
   },
   "file_extension": ".py",
   "mimetype": "text/x-python",
   "name": "python",
   "nbconvert_exporter": "python",
   "pygments_lexer": "ipython3",
   "version": "3.12.7"
  }
 },
 "nbformat": 4,
 "nbformat_minor": 5
}
