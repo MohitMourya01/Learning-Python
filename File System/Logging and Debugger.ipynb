{
 "cells": [
  {
   "cell_type": "code",
   "execution_count": 1,
   "id": "3f587345-4a04-4d15-b21d-fac8a33b600c",
   "metadata": {},
   "outputs": [
    {
     "name": "stdout",
     "output_type": "stream",
     "text": [
      "this is for log of all code privious history\n"
     ]
    }
   ],
   "source": [
    "print(\"this is for log of all code privious history\")"
   ]
  },
  {
   "cell_type": "code",
   "execution_count": 2,
   "id": "2847e5e8-81bd-41d2-93ad-8523379aa9fb",
   "metadata": {},
   "outputs": [],
   "source": [
    "import logging"
   ]
  },
  {
   "cell_type": "code",
   "execution_count": 15,
   "id": "a18e06b2-5bef-40c6-910d-082b2aa7a7e2",
   "metadata": {},
   "outputs": [],
   "source": [
    "logging.basicConfig(filename = \"test.log\", level = logging.INFO)"
   ]
  },
  {
   "cell_type": "code",
   "execution_count": 16,
   "id": "4150fcba-4866-45da-8335-d322b91c7f43",
   "metadata": {},
   "outputs": [],
   "source": [
    "logging.info(\"log this line of execution\")"
   ]
  },
  {
   "cell_type": "code",
   "execution_count": 17,
   "id": "9fb9a13c-9a6e-4584-a088-d80bb3d05b94",
   "metadata": {},
   "outputs": [],
   "source": [
    "logging.info(\"this my print\")"
   ]
  },
  {
   "cell_type": "code",
   "execution_count": 18,
   "id": "88fca213-f18f-4337-99a3-66e44644b303",
   "metadata": {},
   "outputs": [],
   "source": [
    "logging.warning(\"this is my warning message\")"
   ]
  },
  {
   "cell_type": "code",
   "execution_count": 27,
   "id": "3f466bd4-b77f-4996-97c9-30242464b881",
   "metadata": {},
   "outputs": [],
   "source": [
    "logging.shutdown()"
   ]
  },
  {
   "cell_type": "code",
   "execution_count": 20,
   "id": "68d2fa9e-5bf2-42a2-99bb-c7386b50ee6b",
   "metadata": {},
   "outputs": [
    {
     "ename": "SyntaxError",
     "evalue": "invalid syntax (1393534938.py, line 1)",
     "output_type": "error",
     "traceback": [
      "\u001b[1;36m  Cell \u001b[1;32mIn[20], line 1\u001b[1;36m\u001b[0m\n\u001b[1;33m    1. NOTSET\u001b[0m\n\u001b[1;37m       ^\u001b[0m\n\u001b[1;31mSyntaxError\u001b[0m\u001b[1;31m:\u001b[0m invalid syntax\n"
     ]
    }
   ],
   "source": [
    "1. NOTSET\n",
    "2. DEBUG\n",
    "3. INFO\n",
    "4. WARNING\n",
    "5. ERROR\n",
    "6. CRITICAL"
   ]
  },
  {
   "cell_type": "code",
   "execution_count": 2,
   "id": "2b85ee2a-54d9-4077-be07-ea2b8ef9647b",
   "metadata": {},
   "outputs": [],
   "source": [
    "import logging"
   ]
  },
  {
   "cell_type": "code",
   "execution_count": 3,
   "id": "fa73d5a2-1670-4840-a1ad-4b6563b967d5",
   "metadata": {},
   "outputs": [],
   "source": [
    "logging.basicConfig(filename = \"test1.log\", level = logging.DEBUG, format = '%(asctime)s %(message)s')"
   ]
  },
  {
   "cell_type": "code",
   "execution_count": 4,
   "id": "7c805c98-0cc3-4f39-a673-e941c38354a2",
   "metadata": {},
   "outputs": [],
   "source": [
    "logging.info(\"this is my info logging\")"
   ]
  },
  {
   "cell_type": "code",
   "execution_count": 5,
   "id": "8604c207-2a05-4575-a272-49c3d616d4f3",
   "metadata": {},
   "outputs": [],
   "source": [
    "logging.error(\"this is my error msg\")"
   ]
  },
  {
   "cell_type": "code",
   "execution_count": 6,
   "id": "1edc6f0b-296e-431a-9ee2-698c9b32a7cf",
   "metadata": {},
   "outputs": [],
   "source": [
    "logging.shutdown()"
   ]
  },
  {
   "cell_type": "code",
   "execution_count": null,
   "id": "47f559eb-80a2-46fc-acc4-ffc195ef370a",
   "metadata": {},
   "outputs": [],
   "source": []
  }
 ],
 "metadata": {
  "kernelspec": {
   "display_name": "Python 3 (ipykernel)",
   "language": "python",
   "name": "python3"
  },
  "language_info": {
   "codemirror_mode": {
    "name": "ipython",
    "version": 3
   },
   "file_extension": ".py",
   "mimetype": "text/x-python",
   "name": "python",
   "nbconvert_exporter": "python",
   "pygments_lexer": "ipython3",
   "version": "3.12.7"
  }
 },
 "nbformat": 4,
 "nbformat_minor": 5
}
