{
 "cells": [
  {
   "cell_type": "markdown",
   "id": "80a2302a-39f2-488f-8b52-1bc6075abfad",
   "metadata": {},
   "source": [
    "# Reading and Writing Files"
   ]
  },
  {
   "cell_type": "code",
   "execution_count": 6,
   "id": "d772d7bf-6646-43a7-922b-3ac6692053a0",
   "metadata": {},
   "outputs": [],
   "source": [
    "data = {\n",
    "    \"name\" : \"mohit\",\n",
    "    \"mail_id\" : \"mohit@gmail.com\",\n",
    "    \"phone\" : 99189923532,\n",
    "    \"subject\" : [\"data science\", \"big data\", \"data analytics\"]\n",
    "}"
   ]
  },
  {
   "cell_type": "code",
   "execution_count": 7,
   "id": "ec189701-30d1-4960-a33b-3ff0d569a9c8",
   "metadata": {},
   "outputs": [],
   "source": [
    "import json"
   ]
  },
  {
   "cell_type": "code",
   "execution_count": 9,
   "id": "ab980def-8083-481b-9140-b78aca56fdc9",
   "metadata": {},
   "outputs": [],
   "source": [
    "with open(\"data.json\", \"w\") as f :\n",
    "    json.dump(data, f)"
   ]
  },
  {
   "cell_type": "code",
   "execution_count": 10,
   "id": "5a99c5ce-56aa-4100-86d5-d5465777e075",
   "metadata": {},
   "outputs": [],
   "source": [
    "f = open(\"data.json\", \"r\")"
   ]
  },
  {
   "cell_type": "code",
   "execution_count": 11,
   "id": "d1ea4f23-5408-4a25-a5ed-14861c543e98",
   "metadata": {},
   "outputs": [],
   "source": [
    "data1 = json.load(f)"
   ]
  },
  {
   "cell_type": "code",
   "execution_count": 12,
   "id": "8cd4bbfa-f62a-418d-aec7-59da118aea5a",
   "metadata": {},
   "outputs": [
    {
     "data": {
      "text/plain": [
       "{'name': 'mohit',\n",
       " 'mail_id': 'mohit@gmail.com',\n",
       " 'phone': 99189923532,\n",
       " 'subject': ['data science', 'big data', 'data analytics']}"
      ]
     },
     "execution_count": 12,
     "metadata": {},
     "output_type": "execute_result"
    }
   ],
   "source": [
    "data1"
   ]
  },
  {
   "cell_type": "markdown",
   "id": "2a7e2786-0165-4a5c-ae36-04350d00e02a",
   "metadata": {},
   "source": [
    "# comma separated file (csv)"
   ]
  },
  {
   "cell_type": "code",
   "execution_count": 13,
   "id": "51ec5758-bf62-483f-a689-f6dd0d604bb0",
   "metadata": {},
   "outputs": [],
   "source": [
    "import csv"
   ]
  },
  {
   "cell_type": "code",
   "execution_count": 41,
   "id": "87d35616-6f16-4b6f-ad79-210be3f474a4",
   "metadata": {},
   "outputs": [],
   "source": [
    "data2 = [[\"name\", \"email_id\", \"phone\"],\n",
    "         [\"mohit kumar\", \"mohit10@gmail.com\", 7081667327],\n",
    "         [\"krish\", \"krish@com\", 345885938]\n",
    "]"
   ]
  },
  {
   "cell_type": "code",
   "execution_count": 42,
   "id": "51ae33cd-749a-494c-9929-8a75a65dcde7",
   "metadata": {},
   "outputs": [],
   "source": [
    "f = open(\"data2.csv\", \"w\")"
   ]
  },
  {
   "cell_type": "code",
   "execution_count": 43,
   "id": "06037ce5-31c7-49ea-9211-64ff0063bdfd",
   "metadata": {},
   "outputs": [],
   "source": [
    "writer = csv.writer(f)"
   ]
  },
  {
   "cell_type": "code",
   "execution_count": 44,
   "id": "ca11b3ef-12d4-4946-9504-8217a82f0cc5",
   "metadata": {},
   "outputs": [],
   "source": [
    "for i in data2 :\n",
    "    writer.writerow(i)"
   ]
  },
  {
   "cell_type": "code",
   "execution_count": 45,
   "id": "ea9c0e11-71b0-44fa-832e-9c95e9bd6546",
   "metadata": {},
   "outputs": [],
   "source": [
    "f = open(\"data2.csv\", \"r\")"
   ]
  },
  {
   "cell_type": "code",
   "execution_count": 46,
   "id": "494dfdbe-6d0a-43b0-aaab-ef88d625be83",
   "metadata": {},
   "outputs": [],
   "source": [
    "read_data = csv.reader(f)"
   ]
  },
  {
   "cell_type": "code",
   "execution_count": 47,
   "id": "c517c519-d318-4bb3-89c1-0f40dcfcd3af",
   "metadata": {},
   "outputs": [
    {
     "name": "stdout",
     "output_type": "stream",
     "text": [
      "['name', 'email_id', 'phone']\n",
      "[]\n",
      "['mohit kumar', 'mohit10@gmail.com', '7081667327']\n",
      "[]\n",
      "['krish', 'krish@com', '345885938']\n",
      "[]\n"
     ]
    }
   ],
   "source": [
    "for i in read_data :\n",
    "    print(i)\n",
    "    "
   ]
  },
  {
   "cell_type": "markdown",
   "id": "208af84c-1226-47ee-860c-fd457497fdbe",
   "metadata": {},
   "source": [
    "# reading writing binary file"
   ]
  },
  {
   "cell_type": "code",
   "execution_count": 48,
   "id": "d55042ce-3acc-4ad8-b919-4a1c40066b3f",
   "metadata": {},
   "outputs": [],
   "source": [
    "with open(\"test.bin\", \"wb\") as f :\n",
    "    f.write(b\"\\x01\\x02\\x03\")"
   ]
  },
  {
   "cell_type": "code",
   "execution_count": 49,
   "id": "4e71d9d0-d159-4ae8-b13d-c5878496a73a",
   "metadata": {},
   "outputs": [
    {
     "name": "stdout",
     "output_type": "stream",
     "text": [
      "b'\\x01\\x02\\x03'\n"
     ]
    }
   ],
   "source": [
    "with open(\"test.bin\", \"rb\" ) as f :\n",
    "    print(f.read())"
   ]
  },
  {
   "cell_type": "code",
   "execution_count": null,
   "id": "fcac0c3d-678c-4de7-8e6c-6a6322786d70",
   "metadata": {},
   "outputs": [],
   "source": []
  }
 ],
 "metadata": {
  "kernelspec": {
   "display_name": "Python 3 (ipykernel)",
   "language": "python",
   "name": "python3"
  },
  "language_info": {
   "codemirror_mode": {
    "name": "ipython",
    "version": 3
   },
   "file_extension": ".py",
   "mimetype": "text/x-python",
   "name": "python",
   "nbconvert_exporter": "python",
   "pygments_lexer": "ipython3",
   "version": "3.12.7"
  }
 },
 "nbformat": 4,
 "nbformat_minor": 5
}
